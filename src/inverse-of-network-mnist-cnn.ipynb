{
 "cells": [
  {
   "cell_type": "code",
   "execution_count": 1,
   "metadata": {},
   "outputs": [],
   "source": [
    "from pathlib import Path\n",
    "\n",
    "INPUT_PATH = Path('../inputs/mnist/cnn')\n",
    "OUTPUT_PATH = Path('../outputs/mnist/cnn')\n",
    "\n",
    "INPUT_PATH.mkdir(parents=True, exist_ok=True)\n",
    "OUTPUT_PATH.mkdir(parents=True, exist_ok=True)"
   ]
  },
  {
   "cell_type": "code",
   "execution_count": 2,
   "metadata": {
    "tags": []
   },
   "outputs": [
    {
     "data": {
      "text/plain": [
       "Net(\n",
       "  (layers): ModuleList(\n",
       "    (0): Sequential(\n",
       "      (0): Conv2d(1, 20, kernel_size=(3, 3), stride=(1, 1))\n",
       "      (1): ReLU()\n",
       "      (2): MaxPool2d(kernel_size=2, stride=2, padding=0, dilation=1, ceil_mode=False)\n",
       "    )\n",
       "    (1): Linear(in_features=3380, out_features=1690, bias=True)\n",
       "    (2): Linear(in_features=1690, out_features=10, bias=True)\n",
       "  )\n",
       ")"
      ]
     },
     "execution_count": 2,
     "metadata": {},
     "output_type": "execute_result"
    }
   ],
   "source": [
    "import torch\n",
    "import torch.nn as nn\n",
    "import torch.optim as optim\n",
    "from torchvision import datasets, transforms\n",
    "from collections import OrderedDict\n",
    "import torch.nn.functional as F\n",
    "import warnings\n",
    "warnings.filterwarnings(\"ignore\")\n",
    "\n",
    "torch.manual_seed(999)\n",
    "\n",
    "class Net(nn.Module):\n",
    "    def __init__(self, in_dim, in_channel, out_size):\n",
    "        super(Net, self).__init__()\n",
    "        layer1 = self.get_conv_relu_maxpool(in_channel, 20, 3, 2)\n",
    "        layer1_out = layer1(torch.rand((1, 1, 28, 28)))\n",
    "        \n",
    "        layer2 = nn.Linear(layer1_out.flatten(1).size(-1), int(layer1_out.flatten(1).size(-1)/2))\n",
    "        layer3 = nn.Linear(int(layer1_out.flatten(1).size(-1)/2), out_size)\n",
    "        self.layers = nn.ModuleList([layer1, layer2, layer3])\n",
    "        self.forward_vals = []\n",
    "        \n",
    "    def forward(self, x):\n",
    "        self.forward_vals.clear()\n",
    "        for layer in self.layers:\n",
    "            if isinstance(layer, nn.Linear) and len(x.size()) > 2:\n",
    "                x = x.flatten(1)\n",
    "            x = layer(x)\n",
    "            self.forward_vals.append(x)\n",
    "        return x\n",
    "    \n",
    "    def get_conv_relu_maxpool(self, in_channel, num_filters, kernel_size, pool_size):\n",
    "        return nn.Sequential(nn.Conv2d(in_channel, num_filters, kernel_size),\n",
    "                             nn.ReLU(),\n",
    "                             nn.MaxPool2d(pool_size))\n",
    "    \n",
    "    def get_linear_with_relu(self, inp, out):\n",
    "        return nn.Sequential(nn.Linear(inp, out), nn.ReLU())\n",
    "    \n",
    "\n",
    "device = torch.device(\"cuda\" if torch.cuda.is_available() else \"cpu\")\n",
    "batch_size = 128\n",
    "train_kwargs = {'batch_size': batch_size,\n",
    "               'shuffle': True}\n",
    "test_kwargs = {'batch_size': batch_size,\n",
    "              'shuffle': True}\n",
    "\n",
    "transform=transforms.Compose([\n",
    "        transforms.ToTensor(),\n",
    "        transforms.Normalize((0.1307,), (0.3081,))\n",
    "        ])\n",
    "\n",
    "dataset1 = datasets.MNIST(INPUT_PATH/'mnist', train=True, download=True,\n",
    "                   transform=transform)\n",
    "dataset2 = datasets.MNIST(INPUT_PATH/'mnist', train=False,\n",
    "                   transform=transform)\n",
    "train_loader = torch.utils.data.DataLoader(dataset1,**train_kwargs)\n",
    "test_loader = torch.utils.data.DataLoader(dataset2, **test_kwargs)\n",
    "\n",
    "model = Net(28, 1, 10).to(device)\n",
    "optimizer = optim.Adam(model.parameters(), lr=1e-3)\n",
    "\n",
    "model"
   ]
  },
  {
   "cell_type": "code",
   "execution_count": 3,
   "metadata": {
    "tags": []
   },
   "outputs": [
    {
     "data": {
      "text/plain": [
       "60032"
      ]
     },
     "execution_count": 3,
     "metadata": {},
     "output_type": "execute_result"
    }
   ],
   "source": [
    "len(train_loader)*batch_size"
   ]
  },
  {
   "cell_type": "code",
   "execution_count": 4,
   "metadata": {
    "tags": []
   },
   "outputs": [
    {
     "data": {
      "image/png": "[encoded data removed]",
      "text/plain": [
       "<Figure size 432x288 with 6 Axes>"
      ]
     },
     "metadata": {
      "needs_background": "light"
     },
     "output_type": "display_data"
    }
   ],
   "source": [
    "from matplotlib import pyplot as plt\n",
    "\n",
    "examples = iter(test_loader)\n",
    "example_data, example_targets = examples.next()\n",
    "for i in range(6):\n",
    "    plt.subplot(2,3,i+1)\n",
    "    plt.imshow(example_data[i][0], cmap='gray')\n",
    "plt.show()"
   ]
  },
  {
   "cell_type": "markdown",
   "metadata": {},
   "source": [
    "### Target Model Training"
   ]
  },
  {
   "cell_type": "markdown",
   "metadata": {},
   "source": [
    "If you have not already trained a model, uncomment the below cell and run it"
   ]
  },
  {
   "cell_type": "code",
   "execution_count": 5,
   "metadata": {
    "tags": []
   },
   "outputs": [],
   "source": [
    "# import copy\n",
    "# import warnings\n",
    "# warnings.filterwarnings(\"ignore\") \n",
    "\n",
    "# def train(model, device, train_loader, optimizer, epoch):\n",
    "#     model.train()\n",
    "#     for batch_idx, (data, target) in enumerate(train_loader):\n",
    "#         data, target = data.to(device), target.to(device)\n",
    "#         # print(data.size(), data.view(data.size(0), -1).size())\n",
    "#         optimizer.zero_grad()\n",
    "#         output = model(data)\n",
    "#         loss = F.cross_entropy(output, target)\n",
    "#         loss.backward()\n",
    "#         optimizer.step()\n",
    "#         if batch_idx % 100 == 0:\n",
    "#             print('Train Epoch: {} [{}/{} ({:.0f}%)]\\tLoss: {:.6f}'.format(\n",
    "#                 epoch, batch_idx * len(data), len(train_loader.dataset),\n",
    "#                 100. * batch_idx / len(train_loader), loss.item()))\n",
    "            \n",
    "\n",
    "# def test():\n",
    "#     with torch.no_grad():\n",
    "#         n_correct = 0\n",
    "#         n_samples = 0\n",
    "#         for images, labels in test_loader:\n",
    "#             images = images.to(device)\n",
    "#             labels = labels.to(device)\n",
    "#             outputs = model(images)\n",
    "#             # max returns (value ,index)\n",
    "#             _, predicted = torch.max(outputs.data, 1)\n",
    "#             n_samples += labels.size(0)\n",
    "#             n_correct += (predicted == labels).sum().item()\n",
    "\n",
    "#     acc = 100.0 * n_correct / n_samples\n",
    "#     print(f'Accuracy of the network on the 10000 test images: {acc} %')\n",
    "#     return acc\n",
    "\n",
    "\n",
    "# best_acc = -1\n",
    "# best_model = None\n",
    "# for epoch in range(1, 20):\n",
    "#     train(model, device, train_loader, optimizer, epoch)\n",
    "#     acc = test()\n",
    "#     if acc > best_acc:\n",
    "#         best_acc = acc\n",
    "#         best_model = copy.deepcopy(model)\n",
    "#         print(f'new best acc={best_acc}')\n",
    "#     else:\n",
    "#         print(f'current acc={acc}, prev_best_acc={best_acc}')\n",
    "\n",
    "# state = {\n",
    "#     'model_state': best_model.state_dict(),\n",
    "#     'test_acc': best_acc\n",
    "# }\n",
    "# torch.save(state, OUTPUT_PATH/'state_3layer_nn.pt')\n",
    "# print('best model saved')"
   ]
  },
  {
   "cell_type": "markdown",
   "metadata": {},
   "source": [
    "### Reverse Model Training"
   ]
  },
  {
   "cell_type": "code",
   "execution_count": 6,
   "metadata": {},
   "outputs": [
    {
     "data": {
      "text/plain": [
       "dict_keys(['model_state', 'test_acc'])"
      ]
     },
     "execution_count": 6,
     "metadata": {},
     "output_type": "execute_result"
    }
   ],
   "source": [
    "state = torch.load(OUTPUT_PATH/'state_3layer_nn.pt')\n",
    "state.keys()"
   ]
  },
  {
   "cell_type": "code",
   "execution_count": 7,
   "metadata": {},
   "outputs": [
    {
     "data": {
      "text/plain": [
       "Net(\n",
       "  (layers): ModuleList(\n",
       "    (0): Sequential(\n",
       "      (0): Conv2d(1, 20, kernel_size=(3, 3), stride=(1, 1))\n",
       "      (1): ReLU()\n",
       "      (2): MaxPool2d(kernel_size=2, stride=2, padding=0, dilation=1, ceil_mode=False)\n",
       "    )\n",
       "    (1): Linear(in_features=3380, out_features=1690, bias=True)\n",
       "    (2): Linear(in_features=1690, out_features=10, bias=True)\n",
       "  )\n",
       ")"
      ]
     },
     "execution_count": 7,
     "metadata": {},
     "output_type": "execute_result"
    }
   ],
   "source": [
    "model.load_state_dict(state['model_state'])\n",
    "model.to(device)\n",
    "\n",
    "for param in model.parameters():\n",
    "    param.requires_grad = False\n",
    "                                 \n",
    "model"
   ]
  },
  {
   "cell_type": "code",
   "execution_count": 22,
   "metadata": {},
   "outputs": [],
   "source": [
    "config_dict = {\n",
    "    'epochs': 400,\n",
    "    'alpha': 1,\n",
    "    'lr': 1e-3,\n",
    "    'lr_sched': 'exp',\n",
    "    'gamma': 0.99999,\n",
    "    'loss': 'abs',\n",
    "    'min_lr': 3e-6,\n",
    "    'leaky_relu': 0.4\n",
    "}"
   ]
  },
  {
   "cell_type": "code",
   "execution_count": 9,
   "metadata": {},
   "outputs": [],
   "source": [
    "def get_stats():\n",
    "    train_qmnist = datasets.QMNIST(INPUT_PATH/'qmnist', train = True, download= True,\n",
    "                             transform=transforms.ToTensor())\n",
    "    dataloader = torch.utils.data.DataLoader(train_qmnist, batch_size=128)\n",
    "    nimages = 0\n",
    "    mean = 0.0\n",
    "    var = 0.0\n",
    "    for i_batch, batch_target in enumerate(dataloader):\n",
    "        batch = batch_target[0]\n",
    "        # Rearrange batch to be the shape of [B, C, W * H]\n",
    "        batch = batch.view(batch.size(0), batch.size(1), -1)\n",
    "        # Update total number of images\n",
    "        nimages += batch.size(0)\n",
    "        # Compute mean and std here\n",
    "        mean += batch.mean(2).sum(0) \n",
    "        var += batch.var(2).sum(0)\n",
    "\n",
    "    mean /= nimages\n",
    "    var /= nimages\n",
    "    std = torch.sqrt(var)\n",
    "    return mean, std"
   ]
  },
  {
   "cell_type": "code",
   "execution_count": 10,
   "metadata": {},
   "outputs": [
    {
     "name": "stdout",
     "output_type": "stream",
     "text": [
      "size of inv data=Dataset QMNIST\n",
      "    Number of datapoints: 60000\n",
      "    Root location: ../inputs/mnist/cnn/qmnist\n",
      "    Split: train\n",
      "    StandardTransform\n",
      "Transform: Compose(\n",
      "               ToTensor()\n",
      "               Normalize(mean=(0.1307,), std=(0.3081,))\n",
      "           )\n"
     ]
    },
    {
     "data": {
      "text/plain": [
       "(InvNet(\n",
       "   (layers): ModuleList(\n",
       "     (0): Sequential(\n",
       "       (0): Linear(in_features=10, out_features=1690, bias=True)\n",
       "       (1): LeakyReLU(negative_slope=0.4)\n",
       "     )\n",
       "     (1): Sequential(\n",
       "       (0): Linear(in_features=1690, out_features=3380, bias=True)\n",
       "       (1): LeakyReLU(negative_slope=0.4)\n",
       "     )\n",
       "     (2): Sequential(\n",
       "       (0): Conv2d(20, 1, kernel_size=(2, 2), stride=(1, 1), padding=(8, 8))\n",
       "     )\n",
       "   )\n",
       " ),\n",
       " torch.Size([1, 1, 28, 28]))"
      ]
     },
     "execution_count": 10,
     "metadata": {},
     "output_type": "execute_result"
    }
   ],
   "source": [
    "class InvNet(nn.Module):\n",
    "    def __init__(self, input_size, out_dim, out_channel, conv_type='conv'):\n",
    "        super(InvNet, self).__init__()\n",
    "        layer1 = self.get_linear_with_relu(input_size, int(3380/2))\n",
    "        layer2 = self.get_linear_with_relu(int(3380/2), 3380)\n",
    "        if conv_type == 'transpConv':\n",
    "            layer3 = self.get_conv_relu_maxpool(20, 1, 2, 3, 1, 5, 1)  # 20, 1, 2, 3, 1, 5, 1\n",
    "        else:\n",
    "            layer3 = self.get_conv_relu_maxpool(20, 1, 2, 1, 1, 8, 1)\n",
    "        self.conv_type = type(layer3[0])\n",
    "        self.layers = nn.ModuleList([layer1, layer2, layer3])\n",
    "        self.forward_vals = []\n",
    "        \n",
    "    def forward(self, x):\n",
    "        self.forward_vals.clear()\n",
    "        for layer in self.layers:\n",
    "            if isinstance(layer[0], self.conv_type) and len(x.size()) <= 2:\n",
    "                x = x.view(x.size(0), 20, 13, 13)  # out dims of conv2d of target model\n",
    "            x = layer(x)\n",
    "            self.forward_vals.append(x)\n",
    "        return x\n",
    "    \n",
    "    def get_conv_relu_maxpool(self, in_channel, num_filters, kernel_size, stride, pool_size, padding, dilation):\n",
    "#         return nn.Sequential(nn.ConvTranspose2d(in_channel, num_filters, kernel_size, \n",
    "#                                                 stride=stride, padding=padding, dilation=dilation,\n",
    "#                                                 bias=True),\n",
    "#                              # nn.ReLU(),\n",
    "#                              # nn.MaxPool2d(pool_size)\n",
    "#                             )\n",
    "        return nn.Sequential(nn.Conv2d(in_channel, num_filters, kernel_size, \n",
    "                                                stride=stride, padding=padding, dilation=dilation,\n",
    "                                                bias=True),\n",
    "                             # nn.ReLU(),\n",
    "                             # nn.MaxPool2d(pool_size)\n",
    "                            )\n",
    "    \n",
    "    def get_linear_with_relu(self, inp, out):\n",
    "        return nn.Sequential(nn.Linear(inp, out), nn.LeakyReLU(config_dict['leaky_relu']))\n",
    "\n",
    "    \n",
    "inv_model = InvNet(10, 28, 1)\n",
    "inv_model.to(device)\n",
    "mean, std = get_stats()\n",
    "transform=transforms.Compose([\n",
    "        transforms.ToTensor(),\n",
    "        transforms.Normalize((0.1307,), (0.3081,))\n",
    "        ])\n",
    "\n",
    "test_kwargs = {'batch_size': batch_size,\n",
    "              'shuffle': True}\n",
    "train_qmnist = datasets.QMNIST(INPUT_PATH/'qmnist', train = True, download= True,\n",
    "                             transform=transform) \n",
    "test_qmnist = datasets.QMNIST(INPUT_PATH/'qmnist', train = False, download= True,\n",
    "                             transform=transform)\n",
    "\n",
    "print(f'size of inv data={train_qmnist}')\n",
    "inv_data_loader = torch.utils.data.DataLoader(train_qmnist, **test_kwargs)\n",
    "\n",
    "if config_dict['loss'] == 'mse':\n",
    "    loss_fn = nn.MSELoss()\n",
    "elif config_dict['loss'] == 'huber':\n",
    "    loss_fn = nn.HuberLoss()\n",
    "else:\n",
    "    loss_fn = nn.L1Loss()\n",
    "\n",
    "optimizer = optim.Adam(inv_model.parameters(), lr=config_dict['lr'])\n",
    "\n",
    "lr_sched = None\n",
    "if config_dict['lr_sched'] == 'exp':\n",
    "    lr_sched = optim.lr_scheduler.ExponentialLR(optimizer, config_dict['gamma'], verbose=False)\n",
    "\n",
    "inv_model, inv_model(torch.rand((1, 10)).to(device)).size()"
   ]
  },
  {
   "cell_type": "code",
   "execution_count": 11,
   "metadata": {},
   "outputs": [],
   "source": [
    "# s = []\n",
    "# for batch, tgt in inv_data_loader:\n",
    "#     s.append((batch[0].unsqueeze(0), tgt[0]))\n",
    "#     s.append((batch[1].unsqueeze(0), tgt[1]))\n",
    "#     break\n",
    "# len(inv_data_loader), len(s)# inv_model(torch.rand((1, 10, )).to(device)).size()"
   ]
  },
  {
   "cell_type": "code",
   "execution_count": 12,
   "metadata": {},
   "outputs": [],
   "source": [
    "# for t in s:\n",
    "#     print(t[0].size(), t[1])"
   ]
  },
  {
   "cell_type": "code",
   "execution_count": 13,
   "metadata": {
    "tags": []
   },
   "outputs": [
    {
     "data": {
      "image/png": "[encoded data removed]",
      "text/plain": [
       "<Figure size 432x288 with 6 Axes>"
      ]
     },
     "metadata": {
      "needs_background": "light"
     },
     "output_type": "display_data"
    }
   ],
   "source": [
    "from matplotlib import pyplot as plt\n",
    "import random\n",
    "\n",
    "for i in range(6):\n",
    "    example_data, example_target = test_qmnist[random.randint(0, len(test_qmnist))] # TODO for test only change dataloader !!!!!\n",
    "    ax = plt.subplot(2,3,i+1)\n",
    "    ax.set_title(f'label={example_target}')\n",
    "    plt.imshow(example_data.squeeze(), cmap='gray')\n",
    "plt.tight_layout()\n",
    "plt.show()"
   ]
  },
  {
   "cell_type": "code",
   "execution_count": 14,
   "metadata": {},
   "outputs": [],
   "source": [
    "import copy\n",
    "\n",
    "tgt_to_inv_layer_map = {0: 2, 1: 1, 2: 0} # {0: 1, 1: 0}\n",
    "\n",
    "def train_inv(model, inv_model, device, data_loader, optimizer, epoch, alpha, layer_wise_only=False, layer_num=-1):\n",
    "    model.train()\n",
    "    \n",
    "    total_loss = 0\n",
    "    total_loss_layer = 0\n",
    "    total_loss_img = 0\n",
    "    total_loss_cyc = 0\n",
    "    \n",
    "    for batch_idx, (data, target) in enumerate(data_loader):\n",
    "        data, target = data.to(device), target.to(device)  # torch.Size([128, 784]) torch.Size([128])\n",
    "        optimizer.zero_grad()\n",
    "    \n",
    "        out = model(data)  \n",
    "        inv_out = inv_model(out)\n",
    "        \n",
    "        # step 1- layer wise load\n",
    "        loss_layer = layer_wise_loss(model, inv_model, data)\n",
    "        \n",
    "        if not layer_wise_only:\n",
    "            # step 2- upto layer-k loss\n",
    "            loss_img = k_layer_loss(model, inv_model, data)\n",
    "\n",
    "            # step 3- full network output loss\n",
    "            loss_cyc = cycle_consistency_inversion_loss(model, data, inv_out)\n",
    "        else:\n",
    "            loss_img = torch.tensor(0)\n",
    "            loss_cyc = torch.tensor(0)\n",
    "        \n",
    "        loss = loss_layer + loss_img + (alpha*loss_cyc)\n",
    "        \n",
    "        loss.backward()\n",
    "        optimizer.step()\n",
    "        \n",
    "        total_loss += loss.item()\n",
    "        total_loss_layer += loss_layer.item()\n",
    "        total_loss_img += loss_img.item()\n",
    "        total_loss_cyc += loss_cyc.item()\n",
    "        \n",
    "    return total_loss / (batch_idx+1), total_loss_layer / (batch_idx+1), \\\n",
    "            total_loss_img / (batch_idx+1), total_loss_cyc / (batch_idx+1)\n",
    "\n",
    "\n",
    "def layer_wise_loss(model, inv_model, inp, k=-1):\n",
    "    loss = 0\n",
    "    for layer_num, layer in enumerate(model.layers[:k+1] if k > -1 else model.layers):\n",
    "        tgt_layer_in = inp if layer_num == 0 else model.forward_vals[layer_num-1]  # get the input tensor for this layer in tgt model\n",
    "        tgt_layer_out = model.forward_vals[layer_num]  # get the output of i-th target model layer \n",
    "        inv_layer = inv_model.layers[tgt_to_inv_layer_map[layer_num]]  # get the corresponding layer in reverse model\n",
    "        inv_layer_out = inv_layer(tgt_layer_out)  # feed the target model layer output to reverse model layer\n",
    "        if inv_layer_out.size(-1) != tgt_layer_in.size(-1):\n",
    "            tgt_layer_in = tgt_layer_in.flatten(1)\n",
    "        loss += loss_fn(inv_layer_out, tgt_layer_in)  # outputs of both layer should be similar\n",
    "        \n",
    "    return loss\n",
    "\n",
    "\n",
    "def k_layer_loss(model, inv_model, inp, k=-1):\n",
    "    loss = 0\n",
    "    for layer_num, layer in enumerate(model.layers[:k+1] if k > -1 else model.layers):\n",
    "        tgt_layer_out = model.forward_vals[layer_num]\n",
    "        x = tgt_layer_out\n",
    "        for layer in inv_model.layers[-(1+layer_num):]:\n",
    "            if isinstance(layer[0], inv_model.conv_type) and len(x.size()) < 4:\n",
    "                x = x.view(x.size(0), 20, 13, 13)\n",
    "            x = layer(x)\n",
    "        loss += loss_fn(x, inp)\n",
    "    \n",
    "    return loss\n",
    "\n",
    "\n",
    "def cycle_consistency_inversion_loss(model, inp, inv_out, k=-1):\n",
    "    org_activations = copy.deepcopy(model.forward_vals[:k+1] if k > -1 else model.forward_vals)\n",
    "    out_for_inv_input = model(inv_out)  # pass the input image generated by inverted network\n",
    "    inv_activations = model.forward_vals[:k+1] if k > -1 else model.forward_vals\n",
    "    loss = 0\n",
    "    for org_actv, actv in zip(org_activations, inv_activations):\n",
    "        loss += loss_fn(actv, org_actv)\n",
    "        \n",
    "    return loss"
   ]
  },
  {
   "cell_type": "code",
   "execution_count": null,
   "metadata": {
    "tags": []
   },
   "outputs": [
    {
     "name": "stdout",
     "output_type": "stream",
     "text": [
      "resuming training for 3layer_conv2d_1 from epoch 100, last loss 2.2425288452522585 prev_best_loss 2.2425288452522585\n"
     ]
    },
    {
     "data": {
      "text/html": [
       "\n",
       "                    Resuming run <strong><a href=\"https://wandb.ai/nayash/nn-are-reversible/runs/3layer_conv2d_1\" target=\"_blank\">3layer_conv2d_1</a></strong> to <a href=\"https://wandb.ai/nayash/nn-are-reversible\" target=\"_blank\">Weights & Biases</a> (<a href=\"https://docs.wandb.com/integrations/jupyter.html\" target=\"_blank\">docs</a>).<br/>\n",
       "\n",
       "                "
      ],
      "text/plain": [
       "<IPython.core.display.HTML object>"
      ]
     },
     "metadata": {},
     "output_type": "display_data"
    },
    {
     "name": "stdout",
     "output_type": "stream",
     "text": [
      "epoch=100/400 loss=2.24677, loss_layer=0.69187, loss_img=1.22303, loss_cyc=0.33187, epoch_duration=13 secs\n",
      "epoch=101/400 loss=2.25214, loss_layer=0.69235, loss_img=1.22312, loss_cyc=0.33668, epoch_duration=13 secs\n",
      "epoch=102/400 loss=2.23886, loss_layer=0.68898, loss_img=1.22318, loss_cyc=0.3267, epoch_duration=13 secs\n",
      "new best loss=2.2388606793336523\n",
      "epoch=103/400 loss=2.24362, loss_layer=0.69082, loss_img=1.22308, loss_cyc=0.32971, epoch_duration=13 secs\n",
      "epoch=104/400 loss=2.24575, loss_layer=0.69061, loss_img=1.22301, loss_cyc=0.33213, epoch_duration=13 secs\n",
      "epoch=105/400 loss=2.24349, loss_layer=0.69009, loss_img=1.22291, loss_cyc=0.33049, epoch_duration=13 secs\n",
      "epoch=106/400 loss=2.24162, loss_layer=0.68943, loss_img=1.2229, loss_cyc=0.32929, epoch_duration=13 secs\n",
      "epoch=107/400 loss=2.24778, loss_layer=0.69089, loss_img=1.2229, loss_cyc=0.33399, epoch_duration=13 secs\n",
      "epoch=108/400 loss=2.24327, loss_layer=0.69019, loss_img=1.22287, loss_cyc=0.3302, epoch_duration=13 secs\n",
      "epoch=109/400 loss=2.2446, loss_layer=0.68947, loss_img=1.22281, loss_cyc=0.33232, epoch_duration=13 secs\n",
      "epoch=110/400 loss=2.2416, loss_layer=0.68879, loss_img=1.22278, loss_cyc=0.33003, epoch_duration=13 secs\n",
      "epoch=111/400 loss=2.23951, loss_layer=0.6891, loss_img=1.2228, loss_cyc=0.32762, epoch_duration=13 secs\n",
      "epoch=112/400 loss=2.23781, loss_layer=0.68803, loss_img=1.22269, loss_cyc=0.32709, epoch_duration=13 secs\n",
      "new best loss=2.2378071528762136\n",
      "epoch=113/400 loss=2.23937, loss_layer=0.68904, loss_img=1.22273, loss_cyc=0.32761, epoch_duration=14 secs\n",
      "epoch=114/400 loss=2.24088, loss_layer=0.68901, loss_img=1.2227, loss_cyc=0.32917, epoch_duration=15 secs\n",
      "epoch=115/400 loss=2.23939, loss_layer=0.68804, loss_img=1.22263, loss_cyc=0.32871, epoch_duration=14 secs\n",
      "epoch=116/400 loss=2.23843, loss_layer=0.68794, loss_img=1.22257, loss_cyc=0.32792, epoch_duration=14 secs\n",
      "epoch=117/400 loss=2.24541, loss_layer=0.68958, loss_img=1.22261, loss_cyc=0.33322, epoch_duration=14 secs\n",
      "epoch=118/400 loss=2.23958, loss_layer=0.68716, loss_img=1.22248, loss_cyc=0.32994, epoch_duration=13 secs\n",
      "epoch=119/400 loss=2.23229, loss_layer=0.68627, loss_img=1.22248, loss_cyc=0.32354, epoch_duration=13 secs\n",
      "new best loss=2.232292589094085\n",
      "epoch=120/400 loss=2.23426, loss_layer=0.68693, loss_img=1.22248, loss_cyc=0.32485, epoch_duration=13 secs\n",
      "epoch=121/400 loss=2.23863, loss_layer=0.68741, loss_img=1.22242, loss_cyc=0.32881, epoch_duration=13 secs\n",
      "epoch=122/400 loss=2.23683, loss_layer=0.68707, loss_img=1.22244, loss_cyc=0.32733, epoch_duration=13 secs\n",
      "epoch=123/400 loss=2.2323, loss_layer=0.68622, loss_img=1.22232, loss_cyc=0.32376, epoch_duration=13 secs\n",
      "epoch=124/400 loss=2.23453, loss_layer=0.68679, loss_img=1.22246, loss_cyc=0.32529, epoch_duration=13 secs\n",
      "epoch=125/400 loss=2.23983, loss_layer=0.68762, loss_img=1.22241, loss_cyc=0.3298, epoch_duration=14 secs\n",
      "epoch=126/400 loss=2.23218, loss_layer=0.68611, loss_img=1.22231, loss_cyc=0.32376, epoch_duration=14 secs\n",
      "new best loss=2.232181600416139\n",
      "epoch=127/400 loss=2.23947, loss_layer=0.6872, loss_img=1.22229, loss_cyc=0.32998, epoch_duration=14 secs\n",
      "epoch=128/400 loss=2.23343, loss_layer=0.68538, loss_img=1.22229, loss_cyc=0.32575, epoch_duration=13 secs\n",
      "epoch=129/400 loss=2.2333, loss_layer=0.68638, loss_img=1.22222, loss_cyc=0.3247, epoch_duration=13 secs\n"
     ]
    }
   ],
   "source": [
    "import time\n",
    "import sys\n",
    "import wandb\n",
    "import os\n",
    "import numpy as np\n",
    "\n",
    "\n",
    "def round_(n, d=5):\n",
    "    return np.round(n, d)\n",
    "\n",
    "run_id = '3layer_conv2d_1'\n",
    "change_desc = '3 layer models, conv2d, abs'\n",
    "is_resume = True\n",
    "run_path = OUTPUT_PATH/'runs'/run_id\n",
    "run_path.mkdir(parents=True, exist_ok=True)\n",
    "\n",
    "EPOCHS = config_dict['epochs']\n",
    "ALPHA = config_dict['alpha']\n",
    "start_epoch = 0\n",
    "prev_best_loss = 999999\n",
    "total_training_time = 0\n",
    "\n",
    "state_path = run_path/'final_state_3layer_inv_nn.pt'\n",
    "\n",
    "if is_resume and state_path.exists():\n",
    "    state = torch.load(state_path)\n",
    "    inv_model.load_state_dict(state['model_state'])\n",
    "    optimizer.load_state_dict(state['optimizer'])\n",
    "    if lr_sched:\n",
    "        lr_sched.load_state_dict(state['lr_sched'])\n",
    "    start_epoch = state['epoch']+1\n",
    "    prev_best_loss = state['prev_best_loss']\n",
    "\n",
    "    print(f'resuming training for {run_id} from epoch {start_epoch}, last loss {state[\"loss\"]} prev_best_loss {prev_best_loss}')\n",
    "    \n",
    "\n",
    "wandb.init(project='nn-are-reversible',\n",
    "           entity='nayash', save_code=True, id=run_id,\n",
    "           name=run_id, notes=change_desc,\n",
    "           dir=run_path,\n",
    "           resume='allow',\n",
    "           config=config_dict)\n",
    "wandb.watch(inv_model)\n",
    "\n",
    "if run_id in ['test', 'temp']:\n",
    "    os.environ['WANDB_MODE'] = 'offline'\n",
    "    print(f'run_id={run_id}, so wandb is disabled!')\n",
    "          \n",
    "for epoch in range(start_epoch, EPOCHS):\n",
    "    stime = time.time()\n",
    "    total_loss, total_loss_layer, total_loss_img, total_loss_cyc = \\\n",
    "        train_inv(model, inv_model, device, inv_data_loader, optimizer, epoch, ALPHA) # TODO for test only !!!!!!\n",
    "\n",
    "    epoch_time = time.time() - stime\n",
    "    total_training_time += epoch_time\n",
    "    \n",
    "    print(f'epoch={epoch}/{EPOCHS} loss={round_(total_loss)}, loss_layer={round_(total_loss_layer)}, loss_img={round_(total_loss_img)}, loss_cyc={round_(total_loss_cyc)}, epoch_duration={round(epoch_time)} secs')\n",
    "    \n",
    "    wandb.log({\n",
    "        'loss':total_loss,\n",
    "        'loss_layer':total_loss_layer,\n",
    "        'loss_img':total_loss_img,\n",
    "        'loss_cyc':total_loss_cyc,\n",
    "        'lr': optimizer.param_groups[0]['lr']\n",
    "    })\n",
    "    \n",
    "    if lr_sched is not None and optimizer.param_groups[0]['lr'] > config_dict['min_lr']:\n",
    "        lr_sched.step()\n",
    "    \n",
    "    if total_loss < prev_best_loss:\n",
    "        prev_best_loss = total_loss\n",
    "        state = {\n",
    "            'model_state': inv_model.state_dict(),\n",
    "            'optimizer': optimizer.state_dict(),\n",
    "            'lr_sched': lr_sched.state_dict() if lr_sched else None,\n",
    "            'epoch': epoch,\n",
    "            'loss': prev_best_loss,\n",
    "            'prev_best_loss': prev_best_loss\n",
    "        }\n",
    "        torch.save(state, run_path/'state_3layer_inv_nn.pt')\n",
    "        print(f'new best loss={total_loss}')\n",
    "\n",
    "        \n",
    "state = {\n",
    "    'model_state': inv_model.state_dict(),\n",
    "    'optimizer': optimizer.state_dict(),\n",
    "    'lr_sched': lr_sched.state_dict() if lr_sched else None,\n",
    "    'epoch': epoch,\n",
    "    'loss': total_loss,\n",
    "    'prev_best_loss': prev_best_loss\n",
    "    }\n",
    "torch.save(state, state_path)\n",
    "        \n",
    "print(f'{EPOCHS} epochs finished in {total_training_time/60} mins')\n",
    "wandb.finish()"
   ]
  },
  {
   "cell_type": "code",
   "execution_count": null,
   "metadata": {},
   "outputs": [],
   "source": [
    "state = {\n",
    "    'model_state': inv_model.state_dict(),\n",
    "    'optimizer': optimizer.state_dict(),\n",
    "    'lr_sched': lr_sched.state_dict() if lr_sched else None,\n",
    "    'epoch': epoch,\n",
    "    'loss': total_loss,\n",
    "    'prev_best_loss': prev_best_loss\n",
    "    }\n",
    "torch.save(state, state_path)\n",
    "wandb.finish()"
   ]
  },
  {
   "cell_type": "markdown",
   "metadata": {},
   "source": [
    "Plot and compare the original vs generated images"
   ]
  },
  {
   "cell_type": "code",
   "execution_count": null,
   "metadata": {},
   "outputs": [],
   "source": [
    "state = torch.load(run_path/'state_small_inv_nn.pt')\n",
    "inv_model.load_state_dict(state['model_state'])\n",
    "\n",
    "plt.figure(figsize=(15, 5))\n",
    "total_plts = 10\n",
    "for i in range(total_plts):\n",
    "    _ = np.random.randint(len(test_qmnist))\n",
    "    inp = model(test_qmnist[_][0].unsqueeze(0).to(device))\n",
    "    o = inv_model(inp)\n",
    "    img = o.reshape((28, 28)).cpu().detach().numpy()\n",
    "    ax_org = plt.subplot(2, 10, i+1)\n",
    "    plt.imshow(test_qmnist[_][0].squeeze().numpy(), cmap='gray')\n",
    "    ax_pred = plt.subplot(2, 10, i+1+total_plts) \n",
    "    plt.imshow(img, cmap='gray')\n",
    "    label = torch.argmax(model(o))\n",
    "    ax_pred.set_title(f'pred={label}')\n",
    "    ax_org.set_title(f'tgt={test_qmnist[_][1]}')\n",
    "plt.tight_layout()\n",
    "plt.show()"
   ]
  },
  {
   "cell_type": "code",
   "execution_count": 20,
   "metadata": {},
   "outputs": [
    {
     "data": {
      "image/png": "[encoded data removed]",
      "text/plain": [
       "<Figure size 1080x360 with 20 Axes>"
      ]
     },
     "metadata": {
      "needs_background": "light"
     },
     "output_type": "display_data"
    }
   ],
   "source": [
    "state = torch.load(run_path/'state_3layer_inv_nn.pt')\n",
    "inv_model.load_state_dict(state['model_state'])\n",
    "\n",
    "plt.figure(figsize=(15, 5))\n",
    "total_plts = 10\n",
    "for i in range(total_plts):\n",
    "    _ = np.random.randint(len(test_qmnist))\n",
    "    inp = model(train_qmnist[_][0].unsqueeze(0).to(device))\n",
    "    label = torch.argmax(inp)\n",
    "    o = inv_model(inp)\n",
    "    img = o.reshape((28, 28)).cpu().detach().numpy()\n",
    "    ax_org = plt.subplot(2, 10, i+1)\n",
    "    plt.imshow(train_qmnist[_][0].squeeze().numpy(), cmap='gray')\n",
    "    ax_pred = plt.subplot(2, 10, i+1+total_plts)\n",
    "    plt.imshow(img, cmap='gray')\n",
    "    ax_pred.set_title(f'pred={label}')\n",
    "    ax_org.set_title(f'tgt={train_qmnist[_][1]}')\n",
    "plt.tight_layout()\n",
    "plt.show()"
   ]
  },
  {
   "cell_type": "markdown",
   "metadata": {},
   "source": [
    "Now, let's see how identifiable the images generated using reversed model are..."
   ]
  },
  {
   "cell_type": "code",
   "execution_count": 21,
   "metadata": {
    "tags": []
   },
   "outputs": [
    {
     "data": {
      "application/vnd.jupyter.widget-view+json": {
       "model_id": "603848fc68814e289e6c3983f7964d57",
       "version_major": 2,
       "version_minor": 0
      },
      "text/plain": [
       "  0%|          | 0/60000 [00:00<?, ?it/s]"
      ]
     },
     "metadata": {},
     "output_type": "display_data"
    },
    {
     "name": "stdout",
     "output_type": "stream",
     "text": [
      "accuracy on generated images = 97.79166666666667%\n"
     ]
    }
   ],
   "source": [
    "from tqdm.notebook import tqdm\n",
    "\n",
    "tgts = []\n",
    "preds = []\n",
    "with torch.no_grad():\n",
    "    for i, test_sample in enumerate(tqdm(test_qmnist)):\n",
    "        inp = model(test_qmnist[i][0].unsqueeze(0).to(device))\n",
    "        tgt = test_qmnist[i][1]\n",
    "        o = inv_model(inp)  # generate image using inverted model\n",
    "        pred = torch.argmax(torch.softmax(model(o), -1))\n",
    "        tgts.append(tgt)\n",
    "        preds.append(pred.item())\n",
    "\n",
    "print(f'accuracy on generated images = {(np.array(tgts) == np.array(preds)).sum()/len(tgts) * 100}%')"
   ]
  },
  {
   "cell_type": "code",
   "execution_count": null,
   "metadata": {
    "jupyter": {
     "source_hidden": true
    },
    "tags": []
   },
   "outputs": [],
   "source": [
    "# import numpy as np\n",
    "\n",
    "# state = torch.load(run_path/'state_3layer_inv_nn.pt')\n",
    "# inv_model.load_state_dict(state['model_state'])\n",
    "\n",
    "# plt.figure(figsize=(15, 5))\n",
    "# total_plts = 10\n",
    "# for i in range(total_plts):\n",
    "#     _ = np.random.randint(len(train_qmnist))\n",
    "#     inp = model(train_qmnist[_][0].to(device))\n",
    "#     o = inv_model(inp)\n",
    "#     img = o.squeeze().cpu().detach().numpy()\n",
    "#     ax_org = plt.subplot(2, 10, i+1)\n",
    "#     plt.imshow(train_qmnist[_][0].squeeze().numpy(), cmap='gray')\n",
    "#     ax_pred = plt.subplot(2, 10, i+1+total_plts) \n",
    "#     plt.imshow(img, cmap='gray')\n",
    "#     label = torch.argmax(model(o))\n",
    "#     ax_pred.set_title(f'pred={label}')\n",
    "#     ax_org.set_title(f'tgt={train_qmnist[_][1]}')\n",
    "# plt.tight_layout()\n",
    "# plt.show()"
   ]
  }
 ],
 "metadata": {
  "kernelspec": {
   "display_name": "Python 3 (ipykernel)",
   "language": "python",
   "name": "python3"
  },
  "language_info": {
   "codemirror_mode": {
    "name": "ipython",
    "version": 3
   },
   "file_extension": ".py",
   "mimetype": "text/x-python",
   "name": "python",
   "nbconvert_exporter": "python",
   "pygments_lexer": "ipython3",
   "version": "3.8.10"
  }
 },
 "nbformat": 4,
 "nbformat_minor": 4
}
