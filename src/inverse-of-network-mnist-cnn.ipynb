{
 "cells": [
  {
   "cell_type": "code",
   "execution_count": 1,
   "metadata": {},
   "outputs": [],
   "source": [
    "from pathlib import Path\n",
    "\n",
    "INPUT_PATH = Path('../inputs/mnist/cnn')\n",
    "OUTPUT_PATH = Path('../outputs/mnist/cnn')\n",
    "\n",
    "INPUT_PATH.mkdir(parents=True, exist_ok=True)\n",
    "OUTPUT_PATH.mkdir(parents=True, exist_ok=True)"
   ]
  },
  {
   "cell_type": "code",
   "execution_count": 2,
   "metadata": {
    "tags": []
   },
   "outputs": [
    {
     "name": "stdout",
     "output_type": "stream",
     "text": [
      "conv outs=torch.Size([1, 10, 13, 13]), torch.Size([1, 20, 5, 5])\n"
     ]
    },
    {
     "data": {
      "text/plain": [
       "Net(\n",
       "  (layers): ModuleList(\n",
       "    (0): Sequential(\n",
       "      (0): Conv2d(1, 10, kernel_size=(2, 2), stride=(1, 1))\n",
       "      (1): ReLU()\n",
       "      (2): MaxPool2d(kernel_size=2, stride=2, padding=0, dilation=1, ceil_mode=False)\n",
       "    )\n",
       "    (1): Sequential(\n",
       "      (0): Conv2d(10, 20, kernel_size=(3, 3), stride=(1, 1))\n",
       "      (1): ReLU()\n",
       "      (2): MaxPool2d(kernel_size=2, stride=2, padding=0, dilation=1, ceil_mode=False)\n",
       "    )\n",
       "    (2): Linear(in_features=500, out_features=250, bias=True)\n",
       "    (3): Linear(in_features=250, out_features=10, bias=True)\n",
       "  )\n",
       ")"
      ]
     },
     "execution_count": 2,
     "metadata": {},
     "output_type": "execute_result"
    }
   ],
   "source": [
    "import torch\n",
    "import torch.nn as nn\n",
    "import torch.optim as optim\n",
    "from torchvision import datasets, transforms\n",
    "from collections import OrderedDict\n",
    "import torch.nn.functional as F\n",
    "import warnings\n",
    "warnings.filterwarnings(\"ignore\")\n",
    "\n",
    "torch.manual_seed(999)\n",
    "\n",
    "class Net(nn.Module):\n",
    "    def __init__(self, in_dim, in_channel, out_size):\n",
    "        super(Net, self).__init__()\n",
    "        layer1 = self.get_conv_relu_maxpool(in_channel, 10, 2, 2)\n",
    "        layer2 = self.get_conv_relu_maxpool(10, 20, 3, 2)\n",
    "        layer1_out = layer1(torch.rand((1, 1, 28, 28)))\n",
    "        layer2_out = layer2(layer1_out)\n",
    "        print(f'conv outs={layer1_out.size()}, {layer2_out.size()}')\n",
    "        layer3 = nn.Linear(layer2_out.flatten(1).size(-1), int(layer2_out.flatten(1).size(-1)/2))\n",
    "        layer4 = nn.Linear(int(layer2_out.flatten(1).size(-1)/2), out_size)\n",
    "        self.layers = nn.ModuleList([layer1, layer2, layer3, layer4])\n",
    "        self.forward_vals = []\n",
    "        \n",
    "    def forward(self, x):\n",
    "        self.forward_vals.clear()\n",
    "        for layer in self.layers:\n",
    "            if isinstance(layer, nn.Linear) and len(x.size()) > 2:\n",
    "                x = x.flatten(1)\n",
    "            x = layer(x)\n",
    "            self.forward_vals.append(x)\n",
    "        return x\n",
    "    \n",
    "    def get_conv_relu_maxpool(self, in_channel, num_filters, kernel_size, pool_size):\n",
    "        return nn.Sequential(nn.Conv2d(in_channel, num_filters, kernel_size),\n",
    "                             nn.ReLU(),\n",
    "                             nn.MaxPool2d(pool_size))\n",
    "    \n",
    "    def get_linear_with_relu(self, inp, out):\n",
    "        return nn.Sequential(nn.Linear(inp, out), nn.ReLU())\n",
    "    \n",
    "\n",
    "device = torch.device(\"cuda\" if torch.cuda.is_available() else \"cpu\")\n",
    "batch_size = 128\n",
    "train_kwargs = {'batch_size': batch_size,\n",
    "               'shuffle': True}\n",
    "test_kwargs = {'batch_size': batch_size,\n",
    "              'shuffle': True}\n",
    "\n",
    "transform=transforms.Compose([\n",
    "        transforms.ToTensor(),\n",
    "        transforms.Normalize((0.1307,), (0.3081,))\n",
    "        ])\n",
    "\n",
    "dataset1 = datasets.MNIST(INPUT_PATH/'mnist', train=True, download=True,\n",
    "                   transform=transform)\n",
    "dataset2 = datasets.MNIST(INPUT_PATH/'mnist', train=False,\n",
    "                   transform=transform)\n",
    "train_loader = torch.utils.data.DataLoader(dataset1,**train_kwargs)\n",
    "test_loader = torch.utils.data.DataLoader(dataset2, **test_kwargs)\n",
    "\n",
    "model = Net(28, 1, 10).to(device)\n",
    "optimizer = optim.Adam(model.parameters(), lr=1e-3)\n",
    "\n",
    "model"
   ]
  },
  {
   "cell_type": "code",
   "execution_count": 3,
   "metadata": {
    "tags": []
   },
   "outputs": [
    {
     "data": {
      "text/plain": [
       "60032"
      ]
     },
     "execution_count": 3,
     "metadata": {},
     "output_type": "execute_result"
    }
   ],
   "source": [
    "len(train_loader)*batch_size"
   ]
  },
  {
   "cell_type": "code",
   "execution_count": 4,
   "metadata": {
    "tags": []
   },
   "outputs": [
    {
     "data": {
      "image/png": "[encoded data removed]",
      "text/plain": [
       "<Figure size 432x288 with 6 Axes>"
      ]
     },
     "metadata": {
      "needs_background": "light"
     },
     "output_type": "display_data"
    }
   ],
   "source": [
    "from matplotlib import pyplot as plt\n",
    "\n",
    "examples = iter(test_loader)\n",
    "example_data, example_targets = examples.next()\n",
    "for i in range(6):\n",
    "    plt.subplot(2,3,i+1)\n",
    "    plt.imshow(example_data[i][0], cmap='gray')\n",
    "plt.show()"
   ]
  },
  {
   "cell_type": "markdown",
   "metadata": {},
   "source": [
    "### Target Model Training"
   ]
  },
  {
   "cell_type": "markdown",
   "metadata": {},
   "source": [
    "If you have not already trained a model, uncomment the next cell and run it"
   ]
  },
  {
   "cell_type": "code",
   "execution_count": 5,
   "metadata": {
    "jupyter": {
     "source_hidden": true
    },
    "tags": []
   },
   "outputs": [],
   "source": [
    "# import copy\n",
    "# import warnings\n",
    "# warnings.filterwarnings(\"ignore\") \n",
    "\n",
    "# def train(model, device, train_loader, optimizer, epoch):\n",
    "#     model.train()\n",
    "#     for batch_idx, (data, target) in enumerate(train_loader):\n",
    "#         data, target = data.to(device), target.to(device)\n",
    "#         # print(data.size(), data.view(data.size(0), -1).size())\n",
    "#         optimizer.zero_grad()\n",
    "#         output = model(data)\n",
    "#         loss = F.cross_entropy(output, target)\n",
    "#         loss.backward()\n",
    "#         optimizer.step()\n",
    "#         if batch_idx % 100 == 0:\n",
    "#             print('Train Epoch: {} [{}/{} ({:.0f}%)]\\tLoss: {:.6f}'.format(\n",
    "#                 epoch, batch_idx * len(data), len(train_loader.dataset),\n",
    "#                 100. * batch_idx / len(train_loader), loss.item()))\n",
    "            \n",
    "\n",
    "# def test():\n",
    "#     with torch.no_grad():\n",
    "#         n_correct = 0\n",
    "#         n_samples = 0\n",
    "#         for images, labels in test_loader:\n",
    "#             images = images.to(device)\n",
    "#             labels = labels.to(device)\n",
    "#             outputs = model(images)\n",
    "#             # max returns (value ,index)\n",
    "#             _, predicted = torch.max(outputs.data, 1)\n",
    "#             n_samples += labels.size(0)\n",
    "#             n_correct += (predicted == labels).sum().item()\n",
    "\n",
    "#     acc = 100.0 * n_correct / n_samples\n",
    "#     print(f'Accuracy of the network on the 10000 test images: {acc} %')\n",
    "#     return acc\n",
    "\n",
    "\n",
    "# best_acc = -1\n",
    "# best_model = None\n",
    "# for epoch in range(1, 20):\n",
    "#     train(model, device, train_loader, optimizer, epoch)\n",
    "#     acc = test()\n",
    "#     if acc > best_acc:\n",
    "#         best_acc = acc\n",
    "#         best_model = copy.deepcopy(model)\n",
    "#         print(f'new best acc={best_acc}')\n",
    "#     else:\n",
    "#         print(f'current acc={acc}, prev_best_acc={best_acc}')\n",
    "\n",
    "# state = {\n",
    "#     'model_state': best_model.state_dict(),\n",
    "#     'test_acc': best_acc\n",
    "# }\n",
    "# torch.save(state, OUTPUT_PATH/'state_4layer_nn.pt')\n",
    "# print('best model saved')\n",
    "# 98.75"
   ]
  },
  {
   "cell_type": "markdown",
   "metadata": {},
   "source": [
    "### Reverse Model Training"
   ]
  },
  {
   "cell_type": "code",
   "execution_count": 6,
   "metadata": {},
   "outputs": [
    {
     "data": {
      "text/plain": [
       "dict_keys(['model_state', 'test_acc'])"
      ]
     },
     "execution_count": 6,
     "metadata": {},
     "output_type": "execute_result"
    }
   ],
   "source": [
    "state = torch.load(OUTPUT_PATH/'state_4layer_nn.pt')\n",
    "state.keys()"
   ]
  },
  {
   "cell_type": "code",
   "execution_count": 7,
   "metadata": {},
   "outputs": [
    {
     "data": {
      "text/plain": [
       "Net(\n",
       "  (layers): ModuleList(\n",
       "    (0): Sequential(\n",
       "      (0): Conv2d(1, 10, kernel_size=(2, 2), stride=(1, 1))\n",
       "      (1): ReLU()\n",
       "      (2): MaxPool2d(kernel_size=2, stride=2, padding=0, dilation=1, ceil_mode=False)\n",
       "    )\n",
       "    (1): Sequential(\n",
       "      (0): Conv2d(10, 20, kernel_size=(3, 3), stride=(1, 1))\n",
       "      (1): ReLU()\n",
       "      (2): MaxPool2d(kernel_size=2, stride=2, padding=0, dilation=1, ceil_mode=False)\n",
       "    )\n",
       "    (2): Linear(in_features=500, out_features=250, bias=True)\n",
       "    (3): Linear(in_features=250, out_features=10, bias=True)\n",
       "  )\n",
       ")"
      ]
     },
     "execution_count": 7,
     "metadata": {},
     "output_type": "execute_result"
    }
   ],
   "source": [
    "model.load_state_dict(state['model_state'])\n",
    "model.to(device)\n",
    "\n",
    "for param in model.parameters():\n",
    "    param.requires_grad = False\n",
    "                                 \n",
    "model"
   ]
  },
  {
   "cell_type": "code",
   "execution_count": 8,
   "metadata": {},
   "outputs": [],
   "source": [
    "config_dict = {\n",
    "    'epochs': 300,\n",
    "    'alpha': 1,\n",
    "    'lr': 1e-2,\n",
    "    'lr_sched': 'exp',\n",
    "    'gamma': 0.999,\n",
    "    'loss': 'abs',\n",
    "    'min_lr': 1e-5,\n",
    "    'leaky_relu': 0.4,\n",
    "    'batch_size': 128\n",
    "}"
   ]
  },
  {
   "cell_type": "code",
   "execution_count": 9,
   "metadata": {},
   "outputs": [],
   "source": [
    "def get_stats():\n",
    "    train_qmnist = datasets.QMNIST(INPUT_PATH/'qmnist', train = True, download= True,\n",
    "                             transform=transforms.ToTensor())\n",
    "    dataloader = torch.utils.data.DataLoader(train_qmnist, batch_size=128)\n",
    "    nimages = 0\n",
    "    mean = 0.0\n",
    "    var = 0.0\n",
    "    for i_batch, batch_target in enumerate(dataloader):\n",
    "        batch = batch_target[0]\n",
    "        # Rearrange batch to be the shape of [B, C, W * H]\n",
    "        batch = batch.view(batch.size(0), batch.size(1), -1)\n",
    "        # Update total number of images\n",
    "        nimages += batch.size(0)\n",
    "        # Compute mean and std here\n",
    "        mean += batch.mean(2).sum(0) \n",
    "        var += batch.var(2).sum(0)\n",
    "\n",
    "    mean /= nimages\n",
    "    var /= nimages\n",
    "    std = torch.sqrt(var)\n",
    "    return mean, std"
   ]
  },
  {
   "cell_type": "code",
   "execution_count": 10,
   "metadata": {},
   "outputs": [
    {
     "name": "stdout",
     "output_type": "stream",
     "text": [
      "torch.Size([1, 10, 13, 13])\n",
      "torch.Size([1, 20, 5, 5])\n",
      "torch.Size([1, 250])\n",
      "torch.Size([1, 10])\n"
     ]
    },
    {
     "data": {
      "text/plain": [
       "[None, None, None, None]"
      ]
     },
     "execution_count": 10,
     "metadata": {},
     "output_type": "execute_result"
    }
   ],
   "source": [
    "model(torch.rand((1, 1, 28, 28)).to(device))\n",
    "[print(val.size()) for val in model.forward_vals]"
   ]
  },
  {
   "cell_type": "code",
   "execution_count": 11,
   "metadata": {},
   "outputs": [
    {
     "name": "stdout",
     "output_type": "stream",
     "text": [
      "size of inv data=Dataset QMNIST\n",
      "    Number of datapoints: 60000\n",
      "    Root location: ../inputs/mnist/cnn/qmnist\n",
      "    Split: train\n",
      "    StandardTransform\n",
      "Transform: Compose(\n",
      "               ToTensor()\n",
      "               Normalize(mean=(0.1307,), std=(0.3081,))\n",
      "           )\n"
     ]
    },
    {
     "data": {
      "text/plain": [
       "[torch.Size([2, 250]),\n",
       " torch.Size([2, 500]),\n",
       " torch.Size([2, 10, 13, 13]),\n",
       " torch.Size([2, 1, 28, 28])]"
      ]
     },
     "execution_count": 11,
     "metadata": {},
     "output_type": "execute_result"
    }
   ],
   "source": [
    "class InvNet(nn.Module):\n",
    "    def __init__(self, out_dim, out_channel, tgt_model):\n",
    "        super(InvNet, self).__init__()\n",
    "        \n",
    "        layers = []\n",
    "        for i, tgt_layer in enumerate(tgt_model.layers[::-1], 1):\n",
    "            if isinstance(tgt_layer, nn.Sequential):\n",
    "                tgt_layer = tgt_layer[0]\n",
    "            \n",
    "            if isinstance(tgt_layer, nn.Linear):\n",
    "                if len(tgt_model.forward_vals[-i-1].size()) > 2:\n",
    "                    out_size = tgt_model.forward_vals[-i-1].flatten(1).size(-1)\n",
    "                    self.first_conv_dim = tgt_model.forward_vals[-i-1].size()\n",
    "                else:\n",
    "                    out_size = tgt_model.forward_vals[-i-1].size(-1)\n",
    "                layer = self.get_linear_with_relu(tgt_model.forward_vals[-i].size(-1), out_size)\n",
    "            elif isinstance(tgt_layer, nn.Conv2d):\n",
    "                if i < len(tgt_model.layers):\n",
    "                    out_channel = tgt_model.forward_vals[-i-1].size(1)\n",
    "                    layer = self.get_conv_relu(tgt_model.forward_vals[-i].size(1), out_channel, 3, 1, 5, 1, True)\n",
    "                else:\n",
    "                    out_channel = 1\n",
    "                    layer = self.get_conv_relu(tgt_model.forward_vals[-i].size(1), out_channel, 2, 1, 8, 1, False)\n",
    "                \n",
    "            layers.append(layer)\n",
    "\n",
    "        self.conv_type = type(layers[-1][0])\n",
    "        self.layers = nn.ModuleList(layers)\n",
    "        self.forward_vals = []\n",
    "        \n",
    "    def forward(self, x):\n",
    "        self.forward_vals.clear()\n",
    "        for i, layer in enumerate(self.layers):\n",
    "            if isinstance(layer[0], self.conv_type) and len(x.size()) <= 2:\n",
    "                x = x.view(x.size(0), self.first_conv_dim[1], self.first_conv_dim[2], self.first_conv_dim[3])  # out dims of conv2d of target model\n",
    "            x = layer(x)\n",
    "            self.forward_vals.append(x)\n",
    "        return x\n",
    "    \n",
    "    def get_conv_relu(self, in_channel, num_filters, kernel_size, stride, padding, dilation, use_actv=False):\n",
    "        if not use_actv:\n",
    "            return nn.Sequential(nn.Conv2d(in_channel, num_filters, kernel_size, \n",
    "                                                    stride=stride, padding=padding, dilation=dilation,\n",
    "                                                    bias=True),\n",
    "                                )\n",
    "        else:\n",
    "            return nn.Sequential(nn.Conv2d(in_channel, num_filters, kernel_size, \n",
    "                                                    stride=stride, padding=padding, dilation=dilation,\n",
    "                                                    bias=True),\n",
    "                                 nn.LeakyReLU(config_dict['leaky_relu']),\n",
    "                                )\n",
    "    \n",
    "    def get_linear_with_relu(self, inp, out):\n",
    "        return nn.Sequential(nn.Linear(inp, out), nn.LeakyReLU(config_dict['leaky_relu']))\n",
    "\n",
    "\n",
    "inv_model = InvNet(28, 1, model)\n",
    "inv_model.to(device)\n",
    "# mean, std = get_stats()\n",
    "transform=transforms.Compose([\n",
    "        transforms.ToTensor(),\n",
    "        transforms.Normalize((0.1307,), (0.3081,))\n",
    "        ])\n",
    "\n",
    "batch_size = config_dict['batch_size']\n",
    "test_kwargs = {'batch_size': batch_size,\n",
    "              'shuffle': True}\n",
    "train_qmnist = datasets.QMNIST(INPUT_PATH/'qmnist', train = True, download= True,\n",
    "                             transform=transform) \n",
    "test_qmnist = datasets.QMNIST(INPUT_PATH/'qmnist', train = False, download= True,\n",
    "                             transform=transform)\n",
    "\n",
    "print(f'size of inv data={train_qmnist}')\n",
    "inv_data_loader = torch.utils.data.DataLoader(train_qmnist, **test_kwargs)\n",
    "\n",
    "if config_dict['loss'] == 'mse':\n",
    "    loss_fn = nn.MSELoss()\n",
    "elif config_dict['loss'] == 'huber':\n",
    "    loss_fn = nn.HuberLoss()\n",
    "else:\n",
    "    loss_fn = nn.L1Loss()\n",
    "\n",
    "optimizer = optim.Adam(inv_model.parameters(), lr=config_dict['lr'])\n",
    "\n",
    "lr_sched = None\n",
    "if config_dict['lr_sched'] == 'exp':\n",
    "    lr_sched = optim.lr_scheduler.ExponentialLR(optimizer, config_dict['gamma'], verbose=False)\n",
    "\n",
    "# print(inv_model)\n",
    "inv_model(torch.rand((2, 10)).to(device))\n",
    "[val.size() for val in inv_model.forward_vals]"
   ]
  },
  {
   "cell_type": "code",
   "execution_count": 12,
   "metadata": {},
   "outputs": [],
   "source": [
    "# s = []\n",
    "# for batch, tgt in inv_data_loader:\n",
    "#     s.append((batch[0].unsqueeze(0), tgt[0]))\n",
    "#     s.append((batch[1].unsqueeze(0), tgt[1]))\n",
    "#     break\n",
    "# len(inv_data_loader), len(s)# inv_model(torch.rand((1, 10, )).to(device)).size()"
   ]
  },
  {
   "cell_type": "code",
   "execution_count": 13,
   "metadata": {},
   "outputs": [],
   "source": [
    "# for t in s:\n",
    "#     print(t[0].size(), t[1])"
   ]
  },
  {
   "cell_type": "code",
   "execution_count": 14,
   "metadata": {
    "tags": []
   },
   "outputs": [
    {
     "data": {
      "image/png": "[encoded data removed]",
      "text/plain": [
       "<Figure size 432x288 with 6 Axes>"
      ]
     },
     "metadata": {
      "needs_background": "light"
     },
     "output_type": "display_data"
    }
   ],
   "source": [
    "from matplotlib import pyplot as plt\n",
    "import random\n",
    "\n",
    "for i in range(6):\n",
    "    example_data, example_target = test_qmnist[random.randint(0, len(test_qmnist))] # TODO for test only change dataloader !!!!!\n",
    "    ax = plt.subplot(2,3,i+1)\n",
    "    ax.set_title(f'label={example_target}')\n",
    "    plt.imshow(example_data.squeeze(), cmap='gray')\n",
    "plt.tight_layout()\n",
    "plt.show()"
   ]
  },
  {
   "cell_type": "code",
   "execution_count": 15,
   "metadata": {},
   "outputs": [],
   "source": [
    "import copy\n",
    "\n",
    "tgt_to_inv_layer_map = {0: 3, 1: 2, 2: 1, 3: 0} # {0: 1, 1: 0}\n",
    "\n",
    "def train_inv(model, inv_model, device, data_loader, optimizer, epoch, alpha, layer_wise_only=False, layer_num=-1):\n",
    "    model.train()\n",
    "    \n",
    "    total_loss = 0\n",
    "    total_loss_layer = 0\n",
    "    total_loss_img = 0\n",
    "    total_loss_cyc = 0\n",
    "    \n",
    "    for batch_idx, (data, target) in enumerate(data_loader):\n",
    "        data, target = data.to(device), target.to(device)  # torch.Size([128, 784]) torch.Size([128])\n",
    "        optimizer.zero_grad()\n",
    "    \n",
    "        out = model(data)  \n",
    "        inv_out = inv_model(out)\n",
    "        \n",
    "        # step 1- layer wise load\n",
    "        loss_layer = layer_wise_loss(model, inv_model, data)\n",
    "        \n",
    "        if not layer_wise_only:\n",
    "            # step 2- upto layer-k loss\n",
    "            loss_img = k_layer_loss(model, inv_model, data)\n",
    "\n",
    "            # step 3- full network output loss\n",
    "            loss_cyc = cycle_consistency_inversion_loss(model, data, inv_out)\n",
    "        else:\n",
    "            loss_img = torch.tensor(0)\n",
    "            loss_cyc = torch.tensor(0)\n",
    "        \n",
    "        loss = loss_layer + loss_img + (alpha*loss_cyc)\n",
    "        \n",
    "        loss.backward()\n",
    "        optimizer.step()\n",
    "        \n",
    "        total_loss += loss.item()\n",
    "        total_loss_layer += loss_layer.item()\n",
    "        total_loss_img += loss_img.item()\n",
    "        total_loss_cyc += loss_cyc.item()\n",
    "        \n",
    "    return total_loss / (batch_idx+1), total_loss_layer / (batch_idx+1), \\\n",
    "            total_loss_img / (batch_idx+1), total_loss_cyc / (batch_idx+1)\n",
    "\n",
    "\n",
    "def layer_wise_loss(model, inv_model, inp, k=-1):\n",
    "    loss = 0\n",
    "    for layer_num, layer in enumerate(model.layers[:k+1] if k > -1 else model.layers):\n",
    "        tgt_layer_in = inp if layer_num == 0 else model.forward_vals[layer_num-1]  # get the input tensor for this layer in tgt model\n",
    "        tgt_layer_out = model.forward_vals[layer_num]  # get the output of i-th target model layer \n",
    "        inv_layer = inv_model.layers[tgt_to_inv_layer_map[layer_num]]  # get the corresponding layer in reverse model\n",
    "        inv_layer_out = inv_layer(tgt_layer_out)  # feed the target model layer output to reverse model layer\n",
    "        if inv_layer_out.size(-1) != tgt_layer_in.size(-1):\n",
    "            tgt_layer_in = tgt_layer_in.flatten(1)\n",
    "        loss += loss_fn(inv_layer_out, tgt_layer_in)  # outputs of both layer should be similar\n",
    "        \n",
    "    return loss\n",
    "\n",
    "\n",
    "def k_layer_loss(model, inv_model, inp, k=-1):\n",
    "    loss = 0\n",
    "    for layer_num, layer_ in enumerate(model.layers[:k+1] if k > -1 else model.layers):\n",
    "        tgt_layer_out = model.forward_vals[layer_num]\n",
    "        x = tgt_layer_out\n",
    "        for layer in inv_model.layers[-(1+layer_num):]:\n",
    "            if isinstance(layer[0], inv_model.conv_type) and len(x.size()) < 4:\n",
    "                x = x.view(x.size(0), inv_model.first_conv_dim[1], inv_model.first_conv_dim[2], inv_model.first_conv_dim[3])\n",
    "            x = layer(x)\n",
    "        loss += loss_fn(x, inp)\n",
    "    \n",
    "    return loss\n",
    "\n",
    "\n",
    "def cycle_consistency_inversion_loss(model, inp, inv_out, k=-1):\n",
    "    org_activations = copy.deepcopy(model.forward_vals[:k+1] if k > -1 else model.forward_vals)\n",
    "    out_for_inv_input = model(inv_out)  # pass the input image generated by inverted network\n",
    "    inv_activations = model.forward_vals[:k+1] if k > -1 else model.forward_vals\n",
    "    loss = 0\n",
    "    for org_actv, actv in zip(org_activations, inv_activations):\n",
    "        loss += loss_fn(actv, org_actv)\n",
    "        \n",
    "    return loss"
   ]
  },
  {
   "cell_type": "code",
   "execution_count": 16,
   "metadata": {},
   "outputs": [],
   "source": [
    "run_id = '4layer_conv2d_exp1e-2_ConvLeakyRelu'\n",
    "change_desc = 'gamma 0.999, minLr 1e-5, 4 layer models, conv2d, abs'\n",
    "is_resume = True\n",
    "run_path = OUTPUT_PATH/'runs'/run_id"
   ]
  },
  {
   "cell_type": "code",
   "execution_count": null,
   "metadata": {
    "tags": []
   },
   "outputs": [
    {
     "name": "stderr",
     "output_type": "stream",
     "text": [
      "\u001b[34m\u001b[1mwandb\u001b[0m: Currently logged in as: \u001b[33mnayash\u001b[0m (use `wandb login --relogin` to force relogin)\n"
     ]
    },
    {
     "data": {
      "text/html": [
       "\n",
       "                    Syncing run <strong><a href=\"https://wandb.ai/nayash/nn-are-reversible/runs/4layer_conv2d_exp1e-2_ConvLeakyRelu\" target=\"_blank\">4layer_conv2d_exp1e-2_ConvLeakyRelu</a></strong> to <a href=\"https://wandb.ai/nayash/nn-are-reversible\" target=\"_blank\">Weights & Biases</a> (<a href=\"https://docs.wandb.com/integrations/jupyter.html\" target=\"_blank\">docs</a>).<br/>\n",
       "\n",
       "                "
      ],
      "text/plain": [
       "<IPython.core.display.HTML object>"
      ]
     },
     "metadata": {},
     "output_type": "display_data"
    },
    {
     "name": "stdout",
     "output_type": "stream",
     "text": [
      "epoch=0/300 loss=6.2784, loss_layer=1.87605, loss_img=1.81883, loss_cyc=2.58351, epoch_duration=11 secs\n",
      "new best loss=6.2783992946275005\n",
      "epoch=1/300 loss=5.27042, loss_layer=1.48107, loss_img=1.77484, loss_cyc=2.01452, epoch_duration=11 secs\n",
      "new best loss=5.270423143911463\n",
      "epoch=2/300 loss=5.08367, loss_layer=1.41312, loss_img=1.77325, loss_cyc=1.8973, epoch_duration=11 secs\n",
      "new best loss=5.08367233845725\n",
      "epoch=3/300 loss=5.00414, loss_layer=1.38224, loss_img=1.77178, loss_cyc=1.85012, epoch_duration=11 secs\n",
      "new best loss=5.004136086526964\n",
      "epoch=4/300 loss=4.92958, loss_layer=1.36107, loss_img=1.77125, loss_cyc=1.79726, epoch_duration=11 secs\n",
      "new best loss=4.929575284661007\n",
      "epoch=5/300 loss=4.89849, loss_layer=1.35113, loss_img=1.77047, loss_cyc=1.77689, epoch_duration=11 secs\n",
      "new best loss=4.898486020468446\n",
      "epoch=6/300 loss=4.86564, loss_layer=1.34311, loss_img=1.7702, loss_cyc=1.75233, epoch_duration=11 secs\n",
      "new best loss=4.8656395727129125\n",
      "epoch=7/300 loss=4.84895, loss_layer=1.33905, loss_img=1.76973, loss_cyc=1.74018, epoch_duration=11 secs\n",
      "new best loss=4.848954820937948\n",
      "epoch=8/300 loss=4.82055, loss_layer=1.33373, loss_img=1.76966, loss_cyc=1.71716, epoch_duration=11 secs\n",
      "new best loss=4.820550469193123\n",
      "epoch=9/300 loss=4.81095, loss_layer=1.33309, loss_img=1.76986, loss_cyc=1.70799, epoch_duration=11 secs\n",
      "new best loss=4.810945405126381\n",
      "epoch=10/300 loss=4.80111, loss_layer=1.33017, loss_img=1.76992, loss_cyc=1.70102, epoch_duration=11 secs\n",
      "new best loss=4.801108734439939\n",
      "epoch=11/300 loss=4.79767, loss_layer=1.33282, loss_img=1.77021, loss_cyc=1.69464, epoch_duration=11 secs\n",
      "new best loss=4.7976677605846545\n",
      "epoch=12/300 loss=4.78478, loss_layer=1.32942, loss_img=1.76949, loss_cyc=1.68587, epoch_duration=11 secs\n",
      "new best loss=4.784781238417636\n",
      "epoch=13/300 loss=4.77733, loss_layer=1.32894, loss_img=1.76974, loss_cyc=1.67866, epoch_duration=11 secs\n",
      "new best loss=4.77733479074832\n",
      "epoch=14/300 loss=4.75519, loss_layer=1.32568, loss_img=1.77008, loss_cyc=1.65944, epoch_duration=11 secs\n",
      "new best loss=4.755193962471317\n",
      "epoch=15/300 loss=4.78702, loss_layer=1.33018, loss_img=1.76969, loss_cyc=1.68716, epoch_duration=11 secs\n",
      "epoch=16/300 loss=4.75921, loss_layer=1.32811, loss_img=1.77018, loss_cyc=1.66092, epoch_duration=11 secs\n",
      "epoch=17/300 loss=4.74614, loss_layer=1.32698, loss_img=1.76981, loss_cyc=1.64935, epoch_duration=11 secs\n",
      "new best loss=4.746138675380617\n",
      "epoch=18/300 loss=4.75075, loss_layer=1.32641, loss_img=1.76954, loss_cyc=1.65481, epoch_duration=11 secs\n",
      "epoch=19/300 loss=4.75764, loss_layer=1.32735, loss_img=1.76981, loss_cyc=1.66048, epoch_duration=11 secs\n",
      "epoch=20/300 loss=4.72905, loss_layer=1.3251, loss_img=1.76966, loss_cyc=1.63429, epoch_duration=11 secs\n",
      "new best loss=4.729051175147994\n",
      "epoch=21/300 loss=4.75741, loss_layer=1.3278, loss_img=1.77008, loss_cyc=1.65952, epoch_duration=11 secs\n",
      "epoch=22/300 loss=4.73592, loss_layer=1.32452, loss_img=1.76984, loss_cyc=1.64156, epoch_duration=11 secs\n",
      "epoch=23/300 loss=4.72835, loss_layer=1.32535, loss_img=1.77011, loss_cyc=1.63289, epoch_duration=11 secs\n",
      "new best loss=4.728346433212508\n",
      "epoch=24/300 loss=4.72664, loss_layer=1.3257, loss_img=1.77067, loss_cyc=1.63027, epoch_duration=11 secs\n",
      "new best loss=4.726639803538698\n",
      "epoch=25/300 loss=4.73288, loss_layer=1.32581, loss_img=1.76941, loss_cyc=1.63767, epoch_duration=11 secs\n",
      "epoch=26/300 loss=4.72082, loss_layer=1.32486, loss_img=1.76991, loss_cyc=1.62606, epoch_duration=11 secs\n",
      "new best loss=4.720822142131293\n",
      "epoch=27/300 loss=4.70954, loss_layer=1.32203, loss_img=1.76994, loss_cyc=1.61756, epoch_duration=11 secs\n",
      "new best loss=4.709539223327312\n",
      "epoch=28/300 loss=4.70326, loss_layer=1.32276, loss_img=1.7699, loss_cyc=1.61061, epoch_duration=11 secs\n",
      "new best loss=4.703264601449214\n",
      "epoch=29/300 loss=4.69411, loss_layer=1.31907, loss_img=1.76935, loss_cyc=1.6057, epoch_duration=11 secs\n",
      "new best loss=4.694108814572983\n",
      "epoch=30/300 loss=4.70993, loss_layer=1.32307, loss_img=1.76913, loss_cyc=1.61773, epoch_duration=11 secs\n",
      "epoch=31/300 loss=4.69711, loss_layer=1.32014, loss_img=1.76924, loss_cyc=1.60773, epoch_duration=11 secs\n"
     ]
    }
   ],
   "source": [
    "import time\n",
    "import sys\n",
    "import wandb\n",
    "import os\n",
    "import numpy as np\n",
    "\n",
    "\n",
    "def round_(n, d=5):\n",
    "    return np.round(n, d)\n",
    "\n",
    "\n",
    "run_path.mkdir(parents=True, exist_ok=True)\n",
    "\n",
    "EPOCHS = config_dict['epochs']\n",
    "ALPHA = config_dict['alpha']\n",
    "start_epoch = 0\n",
    "prev_best_loss = 999999\n",
    "total_training_time = 0\n",
    "\n",
    "state_path = run_path/'final_state_4layer_inv_nn.pt'\n",
    "\n",
    "if is_resume and state_path.exists():\n",
    "    state = torch.load(state_path)\n",
    "    inv_model.load_state_dict(state['model_state'])\n",
    "    optimizer.load_state_dict(state['optimizer'])\n",
    "    if lr_sched:\n",
    "        lr_sched.load_state_dict(state['lr_sched'])\n",
    "    start_epoch = state['epoch']+1\n",
    "    prev_best_loss = state['prev_best_loss']\n",
    "\n",
    "    print(f'resuming training for {run_id} from epoch {start_epoch}, last loss {state[\"loss\"]} prev_best_loss {prev_best_loss}')\n",
    "    \n",
    "\n",
    "wandb.init(project='nn-are-reversible',\n",
    "           entity='nayash', save_code=True, id=run_id,\n",
    "           name=run_id, notes=change_desc,\n",
    "           dir=run_path,\n",
    "           resume='allow',\n",
    "           config=config_dict)\n",
    "wandb.watch(inv_model)\n",
    "\n",
    "if run_id in ['test', 'temp']:\n",
    "    os.environ['WANDB_MODE'] = 'offline'\n",
    "    print(f'run_id={run_id}, so wandb is disabled!')\n",
    "          \n",
    "for epoch in range(start_epoch, EPOCHS):\n",
    "    stime = time.time()\n",
    "    total_loss, total_loss_layer, total_loss_img, total_loss_cyc = \\\n",
    "        train_inv(model, inv_model, device, inv_data_loader, optimizer, epoch, ALPHA) # TODO for test only !!!!!!\n",
    "\n",
    "    epoch_time = time.time() - stime\n",
    "    total_training_time += epoch_time\n",
    "    \n",
    "    print(f'epoch={epoch}/{EPOCHS} loss={round_(total_loss)}, loss_layer={round_(total_loss_layer)}, loss_img={round_(total_loss_img)}, loss_cyc={round_(total_loss_cyc)}, epoch_duration={round(epoch_time)} secs')\n",
    "    \n",
    "    wandb.log({\n",
    "        'loss':total_loss,\n",
    "        'loss_layer':total_loss_layer,\n",
    "        'loss_img':total_loss_img,\n",
    "        'loss_cyc':total_loss_cyc,\n",
    "        'lr': optimizer.param_groups[0]['lr']\n",
    "    })\n",
    "    \n",
    "    if lr_sched is not None and optimizer.param_groups[0]['lr'] > config_dict['min_lr']:\n",
    "        lr_sched.step()\n",
    "    \n",
    "    if total_loss < prev_best_loss:\n",
    "        prev_best_loss = total_loss\n",
    "        state = {\n",
    "            'model_state': inv_model.state_dict(),\n",
    "            'optimizer': optimizer.state_dict(),\n",
    "            'lr_sched': lr_sched.state_dict() if lr_sched else None,\n",
    "            'epoch': epoch,\n",
    "            'loss': prev_best_loss,\n",
    "            'prev_best_loss': prev_best_loss\n",
    "        }\n",
    "        torch.save(state, run_path/'state_3layer_inv_nn.pt')\n",
    "        print(f'new best loss={total_loss}')\n",
    "\n",
    "        \n",
    "state = {\n",
    "    'model_state': inv_model.state_dict(),\n",
    "    'optimizer': optimizer.state_dict(),\n",
    "    'lr_sched': lr_sched.state_dict() if lr_sched else None,\n",
    "    'epoch': epoch,\n",
    "    'loss': total_loss,\n",
    "    'prev_best_loss': prev_best_loss\n",
    "    }\n",
    "torch.save(state, state_path)\n",
    "        \n",
    "print(f'{EPOCHS} epochs finished in {total_training_time/60} mins')\n",
    "wandb.finish()"
   ]
  },
  {
   "cell_type": "code",
   "execution_count": null,
   "metadata": {},
   "outputs": [],
   "source": [
    "state = {\n",
    "    'model_state': inv_model.state_dict(),\n",
    "    'optimizer': optimizer.state_dict(),\n",
    "    'lr_sched': lr_sched.state_dict() if lr_sched else None,\n",
    "    'epoch': epoch,\n",
    "    'loss': total_loss,\n",
    "    'prev_best_loss': prev_best_loss\n",
    "    }\n",
    "torch.save(state, state_path)\n",
    "wandb.finish()"
   ]
  },
  {
   "cell_type": "markdown",
   "metadata": {},
   "source": [
    "Plot and compare the original vs generated images"
   ]
  },
  {
   "cell_type": "code",
   "execution_count": null,
   "metadata": {},
   "outputs": [],
   "source": [
    "# [val.size() for val in model.forward_vals], [val.size() for val in inv_model.forward_vals], len(model.layers), len(inv_model.layers), inv_model.first_conv_dim"
   ]
  },
  {
   "cell_type": "code",
   "execution_count": null,
   "metadata": {},
   "outputs": [],
   "source": [
    "import torch \n",
    "\n",
    "state = torch.load(run_path/'state_small_inv_nn.pt')\n",
    "inv_model.load_state_dict(state['model_state'])\n",
    "\n",
    "plt.figure(figsize=(15, 5))\n",
    "total_plts = 10\n",
    "for i in range(total_plts):\n",
    "    _ = np.random.randint(len(test_qmnist))\n",
    "    inp = model(test_qmnist[_][0].unsqueeze(0).to(device))\n",
    "    o = inv_model(inp)\n",
    "    img = o.reshape((28, 28)).cpu().detach().numpy()\n",
    "    ax_org = plt.subplot(2, 10, i+1)\n",
    "    plt.imshow(test_qmnist[_][0].squeeze().numpy(), cmap='gray')\n",
    "    ax_pred = plt.subplot(2, 10, i+1+total_plts) \n",
    "    plt.imshow(img, cmap='gray')\n",
    "    label = torch.argmax(model(o))\n",
    "    ax_pred.set_title(f'pred={label}')\n",
    "    ax_org.set_title(f'tgt={test_qmnist[_][1]}')\n",
    "plt.tight_layout()\n",
    "plt.show()"
   ]
  },
  {
   "cell_type": "code",
   "execution_count": null,
   "metadata": {},
   "outputs": [],
   "source": [
    "import numpy as np\n",
    "from datetime import datetime\n",
    "\n",
    "state = torch.load(run_path/'state_4layer_inv_nn.pt')\n",
    "inv_model.load_state_dict(state['model_state'])\n",
    "\n",
    "plt.figure(figsize=(15, 5))\n",
    "total_plts = 10\n",
    "for i in range(total_plts):\n",
    "    _ = np.random.randint(len(test_qmnist))\n",
    "    inp = model(train_qmnist[_][0].unsqueeze(0).to(device))\n",
    "    label = torch.argmax(inp)\n",
    "    o = inv_model(inp)\n",
    "    img = o.reshape((28, 28)).cpu().detach().numpy()\n",
    "    ax_org = plt.subplot(2, 10, i+1)\n",
    "    plt.imshow(train_qmnist[_][0].squeeze().numpy(), cmap='gray')\n",
    "    ax_pred = plt.subplot(2, 10, i+1+total_plts)\n",
    "    plt.imshow(img, cmap='gray')\n",
    "    ax_pred.set_title(f'pred={label}')\n",
    "    ax_org.set_title(f'tgt={train_qmnist[_][1]}')\n",
    "plt.tight_layout()\n",
    "plt.savefig(run_path/f'generated_{str(datetime.now())}')\n",
    "plt.show()"
   ]
  },
  {
   "cell_type": "markdown",
   "metadata": {},
   "source": [
    "Now, let's see how identifiable the images generated using reversed model are..."
   ]
  },
  {
   "cell_type": "code",
   "execution_count": null,
   "metadata": {
    "tags": []
   },
   "outputs": [],
   "source": [
    "from tqdm.notebook import tqdm\n",
    "\n",
    "tgts = []\n",
    "preds = []\n",
    "with torch.no_grad():\n",
    "    for i, test_sample in enumerate(tqdm(test_qmnist)):\n",
    "        inp = model(test_qmnist[i][0].unsqueeze(0).to(device))\n",
    "        tgt = test_qmnist[i][1]\n",
    "        o = inv_model(inp)  # generate image using inverted model\n",
    "        pred = torch.argmax(torch.softmax(model(o), -1))\n",
    "        tgts.append(tgt)\n",
    "        preds.append(pred.item())\n",
    "\n",
    "print(f'accuracy on generated images = {(np.array(tgts) == np.array(preds)).sum()/len(tgts) * 100}%')"
   ]
  },
  {
   "cell_type": "code",
   "execution_count": null,
   "metadata": {
    "tags": []
   },
   "outputs": [],
   "source": [
    "# import numpy as np\n",
    "\n",
    "# state = torch.load(run_path/'state_3layer_inv_nn.pt')\n",
    "# inv_model.load_state_dict(state['model_state'])\n",
    "\n",
    "# plt.figure(figsize=(15, 5))\n",
    "# total_plts = 10\n",
    "# for i in range(total_plts):\n",
    "#     _ = np.random.randint(len(train_qmnist))\n",
    "#     inp = model(train_qmnist[_][0].to(device))\n",
    "#     o = inv_model(inp)\n",
    "#     img = o.squeeze().cpu().detach().numpy()\n",
    "#     ax_org = plt.subplot(2, 10, i+1)\n",
    "#     plt.imshow(train_qmnist[_][0].squeeze().numpy(), cmap='gray')\n",
    "#     ax_pred = plt.subplot(2, 10, i+1+total_plts) \n",
    "#     plt.imshow(img, cmap='gray')\n",
    "#     label = torch.argmax(model(o))\n",
    "#     ax_pred.set_title(f'pred={label}')\n",
    "#     ax_org.set_title(f'tgt={train_qmnist[_][1]}')\n",
    "# plt.tight_layout()\n",
    "# plt.show()"
   ]
  }
 ],
 "metadata": {
  "kernelspec": {
   "display_name": "Python 3 (ipykernel)",
   "language": "python",
   "name": "python3"
  },
  "language_info": {
   "codemirror_mode": {
    "name": "ipython",
    "version": 3
   },
   "file_extension": ".py",
   "mimetype": "text/x-python",
   "name": "python",
   "nbconvert_exporter": "python",
   "pygments_lexer": "ipython3",
   "version": "3.8.10"
  }
 },
 "nbformat": 4,
 "nbformat_minor": 4
}
