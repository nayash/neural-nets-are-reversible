{
 "cells": [
  {
   "cell_type": "code",
   "execution_count": 1,
   "metadata": {},
   "outputs": [],
   "source": [
    "from pathlib import Path\n",
    "\n",
    "INPUT_PATH = Path('../inputs')\n",
    "OUTPUT_PATH = Path('../outputs')"
   ]
  },
  {
   "cell_type": "code",
   "execution_count": 2,
   "metadata": {
    "tags": []
   },
   "outputs": [
    {
     "data": {
      "text/plain": [
       "Net(\n",
       "  (layers): ModuleList(\n",
       "    (0): Sequential(\n",
       "      (0): Linear(in_features=784, out_features=500, bias=True)\n",
       "      (1): ReLU()\n",
       "    )\n",
       "    (1): Linear(in_features=500, out_features=10, bias=True)\n",
       "  )\n",
       ")"
      ]
     },
     "execution_count": 2,
     "metadata": {},
     "output_type": "execute_result"
    }
   ],
   "source": [
    "import torch\n",
    "import torch.nn as nn\n",
    "import torch.optim as optim\n",
    "from torchvision import datasets, transforms\n",
    "from collections import OrderedDict\n",
    "import torch.nn.functional as F\n",
    "import warnings\n",
    "warnings.filterwarnings(\"ignore\") \n",
    "\n",
    "torch.manual_seed(999)\n",
    "\n",
    "class Net(nn.Module):\n",
    "    def __init__(self, input_size, out_size):\n",
    "        super(Net, self).__init__()\n",
    "        layer1 = self.get_linear_with_relu(input_size, 500)\n",
    "        layer2 = nn.Linear(500, out_size)\n",
    "        self.layers = nn.ModuleList([layer1, layer2])\n",
    "        self.forward_vals = []\n",
    "        \n",
    "    def forward(self, x):\n",
    "        self.forward_vals.clear()\n",
    "        for layer in self.layers:\n",
    "            x = layer(x)\n",
    "            self.forward_vals.append(x)\n",
    "        return x\n",
    "    \n",
    "    def get_linear_with_relu(self, inp, out):\n",
    "        return nn.Sequential(nn.Linear(inp, out), nn.ReLU())\n",
    "    \n",
    "\n",
    "device = torch.device(\"cuda\" if torch.cuda.is_available() else \"cpu\")\n",
    "batch_size = 128\n",
    "train_kwargs = {'batch_size': batch_size,\n",
    "               'shuffle': True}\n",
    "test_kwargs = {'batch_size': batch_size,\n",
    "              'shuffle': True}\n",
    "\n",
    "transform=transforms.Compose([\n",
    "        transforms.ToTensor(),\n",
    "        transforms.Normalize((0.1307,), (0.3081,))\n",
    "        ])\n",
    "\n",
    "dataset1 = datasets.MNIST(INPUT_PATH/'mnist', train=True, download=True,\n",
    "                   transform=transform)\n",
    "dataset2 = datasets.MNIST(INPUT_PATH/'mnist', train=False,\n",
    "                   transform=transform)\n",
    "train_loader = torch.utils.data.DataLoader(dataset1,**train_kwargs)\n",
    "test_loader = torch.utils.data.DataLoader(dataset2, **test_kwargs)\n",
    "\n",
    "model = Net(28*28, 10).to(device)\n",
    "optimizer = optim.Adadelta(model.parameters(), lr=1e-2)\n",
    "            \n",
    "model"
   ]
  },
  {
   "cell_type": "code",
   "execution_count": 3,
   "metadata": {
    "tags": []
   },
   "outputs": [
    {
     "data": {
      "text/plain": [
       "60032"
      ]
     },
     "execution_count": 3,
     "metadata": {},
     "output_type": "execute_result"
    }
   ],
   "source": [
    "len(train_loader)*batch_size"
   ]
  },
  {
   "cell_type": "code",
   "execution_count": 4,
   "metadata": {
    "tags": []
   },
   "outputs": [
    {
     "data": {
      "image/png": "[encoded data removed]",
      "text/plain": [
       "<Figure size 432x288 with 6 Axes>"
      ]
     },
     "metadata": {
      "needs_background": "light"
     },
     "output_type": "display_data"
    }
   ],
   "source": [
    "from matplotlib import pyplot as plt\n",
    "\n",
    "examples = iter(test_loader)\n",
    "example_data, example_targets = examples.next()\n",
    "for i in range(6):\n",
    "    plt.subplot(2,3,i+1)\n",
    "    plt.imshow(example_data[i][0], cmap='gray')\n",
    "plt.show()"
   ]
  },
  {
   "cell_type": "markdown",
   "metadata": {},
   "source": [
    "### Target Model Training"
   ]
  },
  {
   "cell_type": "code",
   "execution_count": null,
   "metadata": {
    "jupyter": {
     "source_hidden": true
    },
    "tags": []
   },
   "outputs": [],
   "source": [
    "import copy\n",
    "import warnings\n",
    "warnings.filterwarnings(\"ignore\") \n",
    "\n",
    "def train(model, device, train_loader, optimizer, epoch):\n",
    "    model.train()\n",
    "    for batch_idx, (data, target) in enumerate(train_loader):\n",
    "        data, target = data.to(device), target.to(device)\n",
    "        # print(data.size(), data.view(data.size(0), -1).size())\n",
    "        optimizer.zero_grad()\n",
    "        output = model(data.view(data.size(0), -1))\n",
    "        loss = F.cross_entropy(output, target)\n",
    "        loss.backward()\n",
    "        optimizer.step()\n",
    "        if batch_idx % 100 == 0:\n",
    "            print('Train Epoch: {} [{}/{} ({:.0f}%)]\\tLoss: {:.6f}'.format(\n",
    "                epoch, batch_idx * len(data), len(train_loader.dataset),\n",
    "                100. * batch_idx / len(train_loader), loss.item()))\n",
    "            \n",
    "\n",
    "def test():\n",
    "    with torch.no_grad():\n",
    "        n_correct = 0\n",
    "        n_samples = 0\n",
    "        for images, labels in test_loader:\n",
    "            images = images.reshape(-1, 28*28).to(device)\n",
    "            labels = labels.to(device)\n",
    "            outputs = model(images)\n",
    "            # max returns (value ,index)\n",
    "            _, predicted = torch.max(outputs.data, 1)\n",
    "            n_samples += labels.size(0)\n",
    "            n_correct += (predicted == labels).sum().item()\n",
    "\n",
    "    acc = 100.0 * n_correct / n_samples\n",
    "    print(f'Accuracy of the network on the 10000 test images: {acc} %')\n",
    "    return acc\n",
    "\n",
    "\n",
    "best_acc = -1\n",
    "best_model = None\n",
    "for epoch in range(1, 120):\n",
    "    train(model, device, train_loader, optimizer, epoch)\n",
    "    acc = test()\n",
    "    if acc > best_acc:\n",
    "        best_acc = acc\n",
    "        best_model = copy.deepcopy(model)\n",
    "        print(f'new best acc={best_acc}')\n",
    "    else:\n",
    "        print(f'current acc={acc}, prev_best_acc={best_acc}')\n",
    "\n",
    "state = {\n",
    "    'model_state': best_model.state_dict(),\n",
    "    'test_acc': best_acc\n",
    "}\n",
    "torch.save(state, OUTPUT_PATH/'state_small_nn.pt')\n",
    "print('best model saved')"
   ]
  },
  {
   "cell_type": "markdown",
   "metadata": {},
   "source": [
    "### Reverse Model Training"
   ]
  },
  {
   "cell_type": "code",
   "execution_count": 5,
   "metadata": {},
   "outputs": [
    {
     "data": {
      "text/plain": [
       "dict_keys(['model_state', 'test_acc'])"
      ]
     },
     "execution_count": 5,
     "metadata": {},
     "output_type": "execute_result"
    }
   ],
   "source": [
    "state = torch.load(OUTPUT_PATH/'state_small_nn.pt')\n",
    "state.keys()"
   ]
  },
  {
   "cell_type": "code",
   "execution_count": 6,
   "metadata": {},
   "outputs": [
    {
     "data": {
      "text/plain": [
       "Net(\n",
       "  (layers): ModuleList(\n",
       "    (0): Sequential(\n",
       "      (0): Linear(in_features=784, out_features=500, bias=True)\n",
       "      (1): ReLU()\n",
       "    )\n",
       "    (1): Linear(in_features=500, out_features=10, bias=True)\n",
       "  )\n",
       ")"
      ]
     },
     "execution_count": 6,
     "metadata": {},
     "output_type": "execute_result"
    }
   ],
   "source": [
    "model.load_state_dict(state['model_state'])\n",
    "model.to(device)\n",
    "\n",
    "for param in model.parameters():\n",
    "    param.requires_grad = False\n",
    "                                 \n",
    "model"
   ]
  },
  {
   "cell_type": "code",
   "execution_count": 7,
   "metadata": {},
   "outputs": [
    {
     "name": "stdout",
     "output_type": "stream",
     "text": [
      "size of inv data=Dataset QMNIST\n",
      "    Number of datapoints: 60000\n",
      "    Root location: ../inputs/qmnist\n",
      "    Split: test\n",
      "    StandardTransform\n",
      "Transform: Compose(\n",
      "               ToTensor()\n",
      "               Normalize(mean=(0.1307,), std=(0.3081,))\n",
      "           )\n"
     ]
    },
    {
     "data": {
      "text/plain": [
       "InvNet(\n",
       "  (layers): ModuleList(\n",
       "    (0): Sequential(\n",
       "      (0): Linear(in_features=10, out_features=500, bias=True)\n",
       "      (1): ReLU()\n",
       "    )\n",
       "    (1): Linear(in_features=500, out_features=784, bias=True)\n",
       "  )\n",
       ")"
      ]
     },
     "execution_count": 7,
     "metadata": {},
     "output_type": "execute_result"
    }
   ],
   "source": [
    "class InvNet(nn.Module):\n",
    "    def __init__(self, input_size, out_size):\n",
    "        super(InvNet, self).__init__()\n",
    "        layer1 = self.get_linear_with_relu(input_size, 500)\n",
    "        layer2 = nn.Linear(500, out_size)\n",
    "        self.layers = nn.ModuleList([layer1, layer2])\n",
    "        self.forward_vals = []\n",
    "        \n",
    "    def forward(self, x):\n",
    "        self.forward_vals.clear()\n",
    "        for layer in self.layers:\n",
    "            x = layer(x)\n",
    "            self.forward_vals.append(x)\n",
    "        return x\n",
    "    \n",
    "    def get_linear_with_relu(self, inp, out):\n",
    "        return nn.Sequential(nn.Linear(inp, out), nn.ReLU())\n",
    "    \n",
    "inv_model = InvNet(10, 28*28)\n",
    "inv_model.to(device)\n",
    "transform=transforms.Compose([\n",
    "        transforms.ToTensor(),\n",
    "        transforms.Normalize((0.1307,), (0.3081,))\n",
    "        ])\n",
    "\n",
    "test_kwargs = {'batch_size': batch_size,\n",
    "              'shuffle': True}\n",
    "test_qmnist = datasets.QMNIST(INPUT_PATH/'qmnist', train = False, download= True,\n",
    "                             transform=transform)\n",
    "print(f'size of inv data={test_qmnist}')\n",
    "inv_data_loader = torch.utils.data.DataLoader(test_qmnist, **test_kwargs)\n",
    "\n",
    "optimizer = optim.Adam(inv_model.parameters(), lr=1e-2)\n",
    "\n",
    "inv_model"
   ]
  },
  {
   "cell_type": "code",
   "execution_count": 8,
   "metadata": {
    "tags": []
   },
   "outputs": [
    {
     "data": {
      "image/png": "[encoded data removed]",
      "text/plain": [
       "<Figure size 432x288 with 6 Axes>"
      ]
     },
     "metadata": {
      "needs_background": "light"
     },
     "output_type": "display_data"
    }
   ],
   "source": [
    "from matplotlib import pyplot as plt\n",
    "import random\n",
    "\n",
    "for i in range(6):\n",
    "    example_data, example_target = test_qmnist[random.randint(0, len(test_qmnist))]\n",
    "    plt.subplot(2,3,i+1)\n",
    "    plt.imshow(example_data.squeeze(), cmap='gray')\n",
    "plt.show()"
   ]
  },
  {
   "cell_type": "code",
   "execution_count": null,
   "metadata": {
    "jupyter": {
     "source_hidden": true
    },
    "tags": []
   },
   "outputs": [],
   "source": [
    "# activation = {}  # (2, torch.Size([2, 500]), torch.Size([2, 10]))\n",
    "# def get_activation(name):\n",
    "#     def hook(model, input, output):\n",
    "#         activation[name] = output\n",
    "#     return hook\n",
    "\n",
    "# inv_activation = {}\n",
    "# def get_inv_activation(name):\n",
    "#     def hook(model, input, output):\n",
    "#         inv_activation[name] = output\n",
    "#     return hook\n",
    "\n",
    "# def set_hooks(model, func):\n",
    "#     for i, layer in enumerate(model.layers):\n",
    "#         layer.register_forward_hook(func(f'layer{i}'))\n",
    "\n",
    "# set_hooks(model, get_activation)\n",
    "# set_hooks(inv_model, get_inv_activation)"
   ]
  },
  {
   "cell_type": "code",
   "execution_count": 12,
   "metadata": {},
   "outputs": [
    {
     "name": "stdout",
     "output_type": "stream",
     "text": [
      "tensor(3.6362, device='cuda:0', grad_fn=<AddBackward0>)\n"
     ]
    }
   ],
   "source": [
    "tgt_to_inv_layer_map = {0: 1, 1: 0}\n",
    "\n",
    "def train_inv(model, inv_model, device, data_loader, optimizer, epoch):\n",
    "    model.train()\n",
    "    for batch_idx, (data, target) in enumerate(data_loader):\n",
    "        data, target = data.to(device).view(data.size(0), -1), target.to(device)  # torch.Size([128, 784]) torch.Size([128])\n",
    "        optimizer.zero_grad()\n",
    "    \n",
    "        out = model(data)  \n",
    "        inv_out = inv_model(out)\n",
    "        \n",
    "        # step 1- layer wise load\n",
    "        loss_layer = layer_wise_loss(model, inv_model, data)\n",
    "        print(loss_layer)\n",
    "        # step 2- upto layer-k loss\n",
    "        \n",
    "        # step 3- full network output loss\n",
    "        \n",
    "        optimizer.step()\n",
    "        #if batch_idx > 2:\n",
    "        break\n",
    "        \n",
    "\n",
    "def layer_wise_loss(model, inv_model, inp):\n",
    "    loss = 0\n",
    "    for layer_num, layer in enumerate(model.layers):\n",
    "        tgt_layer_in = inp if layer_num == 0 else model.forward_vals[layer_num-1]  # get the input tensor for this layer in tgt model\n",
    "        tgt_layer_out = model.forward_vals[layer_num]  # get the output of i-th target model layer \n",
    "        inv_layer = inv_model.layers[tgt_to_inv_layer_map[layer_num]]  # get the corresponding layer in reverse model\n",
    "        inv_layer_out = inv_layer(tgt_layer_out)  # feed the target model layer output to reverse model layer\n",
    "        loss += F.l1_loss(inv_layer_out, tgt_layer_in)  # outputs of both layer should be similar\n",
    "        \n",
    "    return loss\n",
    "        \n",
    "train_inv(model, inv_model, device, inv_data_loader, optimizer, 1)"
   ]
  },
  {
   "cell_type": "code",
   "execution_count": null,
   "metadata": {
    "tags": []
   },
   "outputs": [],
   "source": [
    "print(activation['layer0'].size(), activation['layer1'].size(), inv_activation['layer0'].size(), inv_activation['layer1'].size())\n",
    "\n",
    "for i, k in enumerate(activation.keys()):\n",
    "    print(torch.equal(activation[k], inv_activation[k]))\n",
    "    # print(activation[k], inv_activation[k])\n",
    "    \n",
    "model, inv_model"
   ]
  },
  {
   "cell_type": "code",
   "execution_count": null,
   "metadata": {},
   "outputs": [],
   "source": [
    "# i = torch.rand((1, 28*28)).to(device)\n",
    "# for i in range(10):\n",
    "#     print(torch.argmax(F.softmax(model(test_qmnist[i][0].to(device).view(1, -1)))), test_qmnist[i][1])\n",
    "#     print(torch.argmax(F.softmax(inv_model(test_qmnist[i][0].to(device).view(1, -1)))), test_qmnist[i][1])\n",
    "\n",
    "# x = test_qmnist[i][0].to(device).view(1, -1)\n",
    "# out = model(x)\n",
    "# layer1 = model.layers[0](x)\n",
    "# layer1_inv = inv_model.layers[0](out)\n",
    "\n",
    "# layer1.size(), layer1_inv.size(), torch.equal(layer1, layer1_inv)\n",
    "# model.layers[1].weight.size(), inv_model.layers[1].weight.size()\n",
    "model(torch.rand((1, 28*28)).to(device))"
   ]
  },
  {
   "cell_type": "code",
   "execution_count": null,
   "metadata": {},
   "outputs": [],
   "source": [
    "torch.equal(model.forward_vals[0], model.forward_vals[1]), model.forward_vals[0].size(), model.forward_vals[1].size(),len(model.forward_vals)"
   ]
  },
  {
   "cell_type": "code",
   "execution_count": null,
   "metadata": {},
   "outputs": [],
   "source": [
    "l0 = model.layers[0](torch.rand((1, 28*28)).to(device))\n",
    "torch.equal(l0, model.forward_vals[0])"
   ]
  }
 ],
 "metadata": {
  "kernelspec": {
   "display_name": "Python 3 (ipykernel)",
   "language": "python",
   "name": "python3"
  },
  "language_info": {
   "codemirror_mode": {
    "name": "ipython",
    "version": 3
   },
   "file_extension": ".py",
   "mimetype": "text/x-python",
   "name": "python",
   "nbconvert_exporter": "python",
   "pygments_lexer": "ipython3",
   "version": "3.8.10"
  }
 },
 "nbformat": 4,
 "nbformat_minor": 4
}
