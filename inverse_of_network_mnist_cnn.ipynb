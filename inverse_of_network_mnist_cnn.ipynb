{
  "nbformat": 4,
  "nbformat_minor": 0,
  "metadata": {
    "kernelspec": {
      "display_name": "Python 3 (ipykernel)",
      "language": "python",
      "name": "python3"
    },
    "language_info": {
      "codemirror_mode": {
        "name": "ipython",
        "version": 3
      },
      "file_extension": ".py",
      "mimetype": "text/x-python",
      "name": "python",
      "nbconvert_exporter": "python",
      "pygments_lexer": "ipython3",
      "version": "3.8.10"
    },
    "colab": {
      "name": "inverse-of-network-mnist-cnn.ipynb",
      "provenance": [],
      "collapsed_sections": [
        "fgsJU62T-8ms",
        "yuFHx2lR_DWc",
        "kZaLlyybOGZf"
      ]
    },
    "accelerator": "GPU",
    "widgets": {
      "application/vnd.jupyter.widget-state+json": {
        "cc1b0913a97c429ea5050d6c14d8a408": {
          "model_module": "@jupyter-widgets/controls",
          "model_name": "HBoxModel",
          "model_module_version": "1.5.0",
          "state": {
            "_view_name": "HBoxView",
            "_dom_classes": [],
            "_model_name": "HBoxModel",
            "_view_module": "@jupyter-widgets/controls",
            "_model_module_version": "1.5.0",
            "_view_count": null,
            "_view_module_version": "1.5.0",
            "box_style": "",
            "layout": "IPY_MODEL_90acb015ad414596b6f2ea6faed2991b",
            "_model_module": "@jupyter-widgets/controls",
            "children": [
              "IPY_MODEL_e33c0b9cb163470191ce4422ba2332fa",
              "IPY_MODEL_66352d8ecf2f4e2bb8ceabede19e53f4",
              "IPY_MODEL_9cbdaa52a2cc497c8b140a5cdc6a9e16"
            ]
          }
        },
        "90acb015ad414596b6f2ea6faed2991b": {
          "model_module": "@jupyter-widgets/base",
          "model_name": "LayoutModel",
          "model_module_version": "1.2.0",
          "state": {
            "_view_name": "LayoutView",
            "grid_template_rows": null,
            "right": null,
            "justify_content": null,
            "_view_module": "@jupyter-widgets/base",
            "overflow": null,
            "_model_module_version": "1.2.0",
            "_view_count": null,
            "flex_flow": null,
            "width": null,
            "min_width": null,
            "border": null,
            "align_items": null,
            "bottom": null,
            "_model_module": "@jupyter-widgets/base",
            "top": null,
            "grid_column": null,
            "overflow_y": null,
            "overflow_x": null,
            "grid_auto_flow": null,
            "grid_area": null,
            "grid_template_columns": null,
            "flex": null,
            "_model_name": "LayoutModel",
            "justify_items": null,
            "grid_row": null,
            "max_height": null,
            "align_content": null,
            "visibility": null,
            "align_self": null,
            "height": null,
            "min_height": null,
            "padding": null,
            "grid_auto_rows": null,
            "grid_gap": null,
            "max_width": null,
            "order": null,
            "_view_module_version": "1.2.0",
            "grid_template_areas": null,
            "object_position": null,
            "object_fit": null,
            "grid_auto_columns": null,
            "margin": null,
            "display": null,
            "left": null
          }
        },
        "e33c0b9cb163470191ce4422ba2332fa": {
          "model_module": "@jupyter-widgets/controls",
          "model_name": "HTMLModel",
          "model_module_version": "1.5.0",
          "state": {
            "_view_name": "HTMLView",
            "style": "IPY_MODEL_02eadef8ee034e368cb30867ed52b50e",
            "_dom_classes": [],
            "description": "",
            "_model_name": "HTMLModel",
            "placeholder": "​",
            "_view_module": "@jupyter-widgets/controls",
            "_model_module_version": "1.5.0",
            "value": "100%",
            "_view_count": null,
            "_view_module_version": "1.5.0",
            "description_tooltip": null,
            "_model_module": "@jupyter-widgets/controls",
            "layout": "IPY_MODEL_55cab060e1274b64aac7679dbbe76771"
          }
        },
        "66352d8ecf2f4e2bb8ceabede19e53f4": {
          "model_module": "@jupyter-widgets/controls",
          "model_name": "FloatProgressModel",
          "model_module_version": "1.5.0",
          "state": {
            "_view_name": "ProgressView",
            "style": "IPY_MODEL_533faffff9a24b17abba88dad403155a",
            "_dom_classes": [],
            "description": "",
            "_model_name": "FloatProgressModel",
            "bar_style": "success",
            "max": 60000,
            "_view_module": "@jupyter-widgets/controls",
            "_model_module_version": "1.5.0",
            "value": 60000,
            "_view_count": null,
            "_view_module_version": "1.5.0",
            "orientation": "horizontal",
            "min": 0,
            "description_tooltip": null,
            "_model_module": "@jupyter-widgets/controls",
            "layout": "IPY_MODEL_54fdf2b190b84834a4ce364264450110"
          }
        },
        "9cbdaa52a2cc497c8b140a5cdc6a9e16": {
          "model_module": "@jupyter-widgets/controls",
          "model_name": "HTMLModel",
          "model_module_version": "1.5.0",
          "state": {
            "_view_name": "HTMLView",
            "style": "IPY_MODEL_a467c95ce5f3499ea819bddb512fd01b",
            "_dom_classes": [],
            "description": "",
            "_model_name": "HTMLModel",
            "placeholder": "​",
            "_view_module": "@jupyter-widgets/controls",
            "_model_module_version": "1.5.0",
            "value": " 60000/60000 [02:29&lt;00:00, 408.70it/s]",
            "_view_count": null,
            "_view_module_version": "1.5.0",
            "description_tooltip": null,
            "_model_module": "@jupyter-widgets/controls",
            "layout": "IPY_MODEL_93c5b6686272432e9cd69d475f50a901"
          }
        },
        "02eadef8ee034e368cb30867ed52b50e": {
          "model_module": "@jupyter-widgets/controls",
          "model_name": "DescriptionStyleModel",
          "model_module_version": "1.5.0",
          "state": {
            "_view_name": "StyleView",
            "_model_name": "DescriptionStyleModel",
            "description_width": "",
            "_view_module": "@jupyter-widgets/base",
            "_model_module_version": "1.5.0",
            "_view_count": null,
            "_view_module_version": "1.2.0",
            "_model_module": "@jupyter-widgets/controls"
          }
        },
        "55cab060e1274b64aac7679dbbe76771": {
          "model_module": "@jupyter-widgets/base",
          "model_name": "LayoutModel",
          "model_module_version": "1.2.0",
          "state": {
            "_view_name": "LayoutView",
            "grid_template_rows": null,
            "right": null,
            "justify_content": null,
            "_view_module": "@jupyter-widgets/base",
            "overflow": null,
            "_model_module_version": "1.2.0",
            "_view_count": null,
            "flex_flow": null,
            "width": null,
            "min_width": null,
            "border": null,
            "align_items": null,
            "bottom": null,
            "_model_module": "@jupyter-widgets/base",
            "top": null,
            "grid_column": null,
            "overflow_y": null,
            "overflow_x": null,
            "grid_auto_flow": null,
            "grid_area": null,
            "grid_template_columns": null,
            "flex": null,
            "_model_name": "LayoutModel",
            "justify_items": null,
            "grid_row": null,
            "max_height": null,
            "align_content": null,
            "visibility": null,
            "align_self": null,
            "height": null,
            "min_height": null,
            "padding": null,
            "grid_auto_rows": null,
            "grid_gap": null,
            "max_width": null,
            "order": null,
            "_view_module_version": "1.2.0",
            "grid_template_areas": null,
            "object_position": null,
            "object_fit": null,
            "grid_auto_columns": null,
            "margin": null,
            "display": null,
            "left": null
          }
        },
        "533faffff9a24b17abba88dad403155a": {
          "model_module": "@jupyter-widgets/controls",
          "model_name": "ProgressStyleModel",
          "model_module_version": "1.5.0",
          "state": {
            "_view_name": "StyleView",
            "_model_name": "ProgressStyleModel",
            "description_width": "",
            "_view_module": "@jupyter-widgets/base",
            "_model_module_version": "1.5.0",
            "_view_count": null,
            "_view_module_version": "1.2.0",
            "bar_color": null,
            "_model_module": "@jupyter-widgets/controls"
          }
        },
        "54fdf2b190b84834a4ce364264450110": {
          "model_module": "@jupyter-widgets/base",
          "model_name": "LayoutModel",
          "model_module_version": "1.2.0",
          "state": {
            "_view_name": "LayoutView",
            "grid_template_rows": null,
            "right": null,
            "justify_content": null,
            "_view_module": "@jupyter-widgets/base",
            "overflow": null,
            "_model_module_version": "1.2.0",
            "_view_count": null,
            "flex_flow": null,
            "width": null,
            "min_width": null,
            "border": null,
            "align_items": null,
            "bottom": null,
            "_model_module": "@jupyter-widgets/base",
            "top": null,
            "grid_column": null,
            "overflow_y": null,
            "overflow_x": null,
            "grid_auto_flow": null,
            "grid_area": null,
            "grid_template_columns": null,
            "flex": null,
            "_model_name": "LayoutModel",
            "justify_items": null,
            "grid_row": null,
            "max_height": null,
            "align_content": null,
            "visibility": null,
            "align_self": null,
            "height": null,
            "min_height": null,
            "padding": null,
            "grid_auto_rows": null,
            "grid_gap": null,
            "max_width": null,
            "order": null,
            "_view_module_version": "1.2.0",
            "grid_template_areas": null,
            "object_position": null,
            "object_fit": null,
            "grid_auto_columns": null,
            "margin": null,
            "display": null,
            "left": null
          }
        },
        "a467c95ce5f3499ea819bddb512fd01b": {
          "model_module": "@jupyter-widgets/controls",
          "model_name": "DescriptionStyleModel",
          "model_module_version": "1.5.0",
          "state": {
            "_view_name": "StyleView",
            "_model_name": "DescriptionStyleModel",
            "description_width": "",
            "_view_module": "@jupyter-widgets/base",
            "_model_module_version": "1.5.0",
            "_view_count": null,
            "_view_module_version": "1.2.0",
            "_model_module": "@jupyter-widgets/controls"
          }
        },
        "93c5b6686272432e9cd69d475f50a901": {
          "model_module": "@jupyter-widgets/base",
          "model_name": "LayoutModel",
          "model_module_version": "1.2.0",
          "state": {
            "_view_name": "LayoutView",
            "grid_template_rows": null,
            "right": null,
            "justify_content": null,
            "_view_module": "@jupyter-widgets/base",
            "overflow": null,
            "_model_module_version": "1.2.0",
            "_view_count": null,
            "flex_flow": null,
            "width": null,
            "min_width": null,
            "border": null,
            "align_items": null,
            "bottom": null,
            "_model_module": "@jupyter-widgets/base",
            "top": null,
            "grid_column": null,
            "overflow_y": null,
            "overflow_x": null,
            "grid_auto_flow": null,
            "grid_area": null,
            "grid_template_columns": null,
            "flex": null,
            "_model_name": "LayoutModel",
            "justify_items": null,
            "grid_row": null,
            "max_height": null,
            "align_content": null,
            "visibility": null,
            "align_self": null,
            "height": null,
            "min_height": null,
            "padding": null,
            "grid_auto_rows": null,
            "grid_gap": null,
            "max_width": null,
            "order": null,
            "_view_module_version": "1.2.0",
            "grid_template_areas": null,
            "object_position": null,
            "object_fit": null,
            "grid_auto_columns": null,
            "margin": null,
            "display": null,
            "left": null
          }
        }
      }
    }
  },
  "cells": [
    {
      "cell_type": "code",
      "metadata": {
        "colab": {
          "base_uri": "https://localhost:8080/"
        },
        "id": "_RfbDW775Mwf",
        "outputId": "7ab9c1a1-5df9-46e6-e0a7-1d23698eb10c"
      },
      "source": [
        "from google.colab import drive\n",
        "from pathlib import Path\n",
        "\n",
        "drive.mount('/content/drive')\n",
        "DRIVE_PATH = Path('/content/drive/My Drive/ML_Training_Data/inverse-of-neural-net')"
      ],
      "execution_count": 1,
      "outputs": [
        {
          "output_type": "stream",
          "name": "stdout",
          "text": [
            "Mounted at /content/drive\n"
          ]
        }
      ]
    },
    {
      "cell_type": "code",
      "metadata": {
        "id": "l3I8oIVW5LPW"
      },
      "source": [
        "from pathlib import Path\n",
        "\n",
        "# INPUT_PATH = Path('../inputs/mnist/cnn')\n",
        "# OUTPUT_PATH = Path('../outputs/mnist/cnn')\n",
        "INPUT_PATH = DRIVE_PATH / 'inputs/mnist/cnn'\n",
        "OUTPUT_PATH = DRIVE_PATH / 'outputs/mnist/cnn'\n",
        "\n",
        "INPUT_PATH.mkdir(parents=True, exist_ok=True)\n",
        "OUTPUT_PATH.mkdir(parents=True, exist_ok=True)"
      ],
      "execution_count": 2,
      "outputs": []
    },
    {
      "cell_type": "code",
      "metadata": {
        "tags": [],
        "colab": {
          "base_uri": "https://localhost:8080/"
        },
        "id": "a4EvVyZd5LPZ",
        "outputId": "aaf96f92-79bd-4982-dfe1-bf0a3ab7cc91"
      },
      "source": [
        "import torch\n",
        "import torch.nn as nn\n",
        "import torch.optim as optim\n",
        "from torchvision import datasets, transforms\n",
        "from collections import OrderedDict\n",
        "import torch.nn.functional as F\n",
        "import warnings\n",
        "warnings.filterwarnings(\"ignore\")\n",
        "\n",
        "torch.manual_seed(999)\n",
        "\n",
        "\n",
        "class Net(nn.Module):\n",
        "    def __init__(self, in_dim, in_channel, out_size):\n",
        "        super(Net, self).__init__()\n",
        "#         layer1 = self.get_conv_relu_maxpool(in_channel, 10, 2, 2)\n",
        "#         layer2 = self.get_conv_relu_maxpool(10, 20, 3, 2)\n",
        "#         layer1_out = layer1(torch.rand((1, 1, 28, 28)))\n",
        "#         layer2_out = layer2(layer1_out)\n",
        "#         print(f'conv outs={layer1_out.size()}, {layer2_out.size()}')\n",
        "#         layer3 = nn.Linear(layer2_out.flatten(1).size(-1), int(layer2_out.flatten(1).size(-1)/2))\n",
        "#         layer4 = nn.Linear(int(layer2_out.flatten(1).size(-1)/2), out_size)\n",
        "#         self.layers = nn.ModuleList([layer1, layer2, layer3, layer4])\n",
        "        layer1 = self.get_conv_relu_maxpool(in_channel, 20, 3, 2)\n",
        "        \n",
        "        layer1_out = layer1(torch.rand((1, 1, 28, 28)))\n",
        "        print(f'conv outs={layer1_out.size()}')\n",
        "        layer2 = self.get_linear_with_relu(layer1_out.flatten(1).size(-1), int(layer1_out.flatten(1).size(-1)/2))\n",
        "        layer3 = nn.Linear(int(layer1_out.flatten(1).size(-1)/2), out_size)\n",
        "        self.layers = nn.ModuleList([layer1, layer2, layer3])\n",
        "        self.forward_vals = []\n",
        "        \n",
        "    def forward(self, x):\n",
        "        self.forward_vals.clear()\n",
        "        for layer in self.layers:\n",
        "            _ = layer[0] if isinstance(layer, nn.Sequential) else layer\n",
        "            if isinstance(_, nn.Linear) and len(x.size()) > 2:\n",
        "                x = x.flatten(1)\n",
        "            x = layer(x)\n",
        "            self.forward_vals.append(x)\n",
        "        return x\n",
        "    \n",
        "    def get_conv_relu_maxpool(self, in_channel, num_filters, kernel_size, pool_size):\n",
        "        return nn.Sequential(nn.Conv2d(in_channel, num_filters, kernel_size),\n",
        "                             nn.MaxPool2d(pool_size),\n",
        "                             nn.ReLU())\n",
        "    \n",
        "    def get_linear_with_relu(self, inp, out):\n",
        "        return nn.Sequential(nn.Linear(inp, out), nn.ReLU())\n",
        "    \n",
        "\n",
        "device = torch.device(\"cuda\" if torch.cuda.is_available() else \"cpu\")\n",
        "batch_size = 128\n",
        "train_kwargs = {'batch_size': batch_size,\n",
        "               'shuffle': True}\n",
        "test_kwargs = {'batch_size': batch_size,\n",
        "              'shuffle': True}\n",
        "\n",
        "transform=transforms.Compose([\n",
        "        transforms.ToTensor(),\n",
        "        transforms.Normalize((0.1307,), (0.3081,))\n",
        "        ])\n",
        "\n",
        "dataset1 = datasets.MNIST(INPUT_PATH/'mnist', train=True, download=True,\n",
        "                   transform=transform)\n",
        "dataset2 = datasets.MNIST(INPUT_PATH/'mnist', train=False,\n",
        "                   transform=transform)\n",
        "train_loader = torch.utils.data.DataLoader(dataset1,**train_kwargs)\n",
        "test_loader = torch.utils.data.DataLoader(dataset2, **test_kwargs)\n",
        "\n",
        "model = Net(28, 1, 10).to(device)\n",
        "optimizer = optim.Adam(model.parameters(), lr=1e-3)\n",
        "\n",
        "model, model(torch.rand(2, 1, 28, 28).to(device)).size()"
      ],
      "execution_count": 3,
      "outputs": [
        {
          "output_type": "stream",
          "name": "stdout",
          "text": [
            "conv outs=torch.Size([1, 20, 13, 13])\n"
          ]
        },
        {
          "output_type": "execute_result",
          "data": {
            "text/plain": [
              "(Net(\n",
              "   (layers): ModuleList(\n",
              "     (0): Sequential(\n",
              "       (0): Conv2d(1, 20, kernel_size=(3, 3), stride=(1, 1))\n",
              "       (1): MaxPool2d(kernel_size=2, stride=2, padding=0, dilation=1, ceil_mode=False)\n",
              "       (2): ReLU()\n",
              "     )\n",
              "     (1): Sequential(\n",
              "       (0): Linear(in_features=3380, out_features=1690, bias=True)\n",
              "       (1): ReLU()\n",
              "     )\n",
              "     (2): Linear(in_features=1690, out_features=10, bias=True)\n",
              "   )\n",
              " ), torch.Size([2, 10]))"
            ]
          },
          "metadata": {},
          "execution_count": 3
        }
      ]
    },
    {
      "cell_type": "code",
      "metadata": {
        "tags": [],
        "colab": {
          "base_uri": "https://localhost:8080/"
        },
        "id": "rTVk1uxV5LPb",
        "outputId": "a006ecb6-fac7-4f70-f285-9c0ab92fd3a5"
      },
      "source": [
        "len(train_loader)*batch_size"
      ],
      "execution_count": 4,
      "outputs": [
        {
          "output_type": "execute_result",
          "data": {
            "text/plain": [
              "60032"
            ]
          },
          "metadata": {},
          "execution_count": 4
        }
      ]
    },
    {
      "cell_type": "code",
      "metadata": {
        "tags": [],
        "colab": {
          "base_uri": "https://localhost:8080/",
          "height": 267
        },
        "id": "dBoJi7PG5LPc",
        "outputId": "2cb0d794-a043-4932-dfac-14236a0dc364"
      },
      "source": [
        "from matplotlib import pyplot as plt\n",
        "\n",
        "examples = iter(test_loader)\n",
        "example_data, example_targets = examples.next()\n",
        "for i in range(6):\n",
        "    plt.subplot(2,3,i+1)\n",
        "    plt.imshow(example_data[i][0], cmap='gray')\n",
        "plt.show()"
      ],
      "execution_count": 5,
      "outputs": [
        {
          "output_type": "display_data",
          "data": {
            "image/png": "[encoded data removed]",
            "text/plain": [
              "<Figure size 432x288 with 6 Axes>"
            ]
          },
          "metadata": {
            "needs_background": "light"
          }
        }
      ]
    },
    {
      "cell_type": "markdown",
      "metadata": {
        "id": "seIGN3p75LPc"
      },
      "source": [
        "### Target Model Training"
      ]
    },
    {
      "cell_type": "markdown",
      "metadata": {
        "id": "U4wf5nX85LPd"
      },
      "source": [
        "If you have not already trained a model, uncomment the next cell and run it"
      ]
    },
    {
      "cell_type": "code",
      "metadata": {
        "jupyter": {
          "source_hidden": true
        },
        "tags": [],
        "id": "20EWoLxY5LPd"
      },
      "source": [
        "# import copy\n",
        "# import warnings\n",
        "# warnings.filterwarnings(\"ignore\") \n",
        "\n",
        "# def train(model, device, train_loader, optimizer, epoch):\n",
        "#     model.train()\n",
        "#     for batch_idx, (data, target) in enumerate(train_loader):\n",
        "#         data, target = data.to(device), target.to(device)\n",
        "#         # print(data.size(), data.view(data.size(0), -1).size())\n",
        "#         optimizer.zero_grad()\n",
        "#         output = model(data)\n",
        "#         loss = F.cross_entropy(output, target)\n",
        "#         loss.backward()\n",
        "#         optimizer.step()\n",
        "#         if batch_idx % 100 == 0:\n",
        "#             print('Train Epoch: {} [{}/{} ({:.0f}%)]\\tLoss: {:.6f}'.format(\n",
        "#                 epoch, batch_idx * len(data), len(train_loader.dataset),\n",
        "#                 100. * batch_idx / len(train_loader), loss.item()))\n",
        "            \n",
        "\n",
        "# def test():\n",
        "#     with torch.no_grad():\n",
        "#         n_correct = 0\n",
        "#         n_samples = 0\n",
        "#         for images, labels in test_loader:\n",
        "#             images = images.to(device)\n",
        "#             labels = labels.to(device)\n",
        "#             outputs = model(images)\n",
        "#             # max returns (value ,index)\n",
        "#             _, predicted = torch.max(outputs.data, 1)\n",
        "#             n_samples += labels.size(0)\n",
        "#             n_correct += (predicted == labels).sum().item()\n",
        "\n",
        "#     acc = 100.0 * n_correct / n_samples\n",
        "#     print(f'Accuracy of the network on the 10000 test images: {acc} %')\n",
        "#     return acc\n",
        "\n",
        "\n",
        "# best_acc = -1\n",
        "# best_model = None\n",
        "# for epoch in range(1, 20):\n",
        "#     train(model, device, train_loader, optimizer, epoch)\n",
        "#     acc = test()\n",
        "#     if acc > best_acc:\n",
        "#         best_acc = acc\n",
        "#         best_model = copy.deepcopy(model)\n",
        "#         print(f'new best acc={best_acc}')\n",
        "#     else:\n",
        "#         print(f'current acc={acc}, prev_best_acc={best_acc}')\n",
        "\n",
        "# state = {\n",
        "#     'model_state': best_model.state_dict(),\n",
        "#     'test_acc': best_acc\n",
        "# }\n",
        "# torch.save(state, OUTPUT_PATH/'state_3layer_nn.pt')\n",
        "# print('best model saved')\n",
        "# # 98.88"
      ],
      "execution_count": 6,
      "outputs": []
    },
    {
      "cell_type": "markdown",
      "metadata": {
        "id": "FFT2Um835LPe"
      },
      "source": [
        "### Reverse Model Training"
      ]
    },
    {
      "cell_type": "code",
      "metadata": {
        "colab": {
          "base_uri": "https://localhost:8080/"
        },
        "id": "CtqY_OgN5LPf",
        "outputId": "f635b4fb-4387-4eaf-d324-8e2ce89de039"
      },
      "source": [
        "state = torch.load(OUTPUT_PATH/'state_3layer_nn.pt')\n",
        "state.keys(), state['test_acc']"
      ],
      "execution_count": 7,
      "outputs": [
        {
          "output_type": "execute_result",
          "data": {
            "text/plain": [
              "(dict_keys(['model_state', 'test_acc']), 98.88)"
            ]
          },
          "metadata": {},
          "execution_count": 7
        }
      ]
    },
    {
      "cell_type": "code",
      "metadata": {
        "colab": {
          "base_uri": "https://localhost:8080/"
        },
        "id": "1hMAxRrW5LPf",
        "outputId": "0a05ab88-6f05-4dbf-9c14-13588dde254c"
      },
      "source": [
        "model.load_state_dict(state['model_state'])\n",
        "model.to(device)\n",
        "\n",
        "for param in model.parameters():\n",
        "    param.requires_grad = False\n",
        "                                 \n",
        "model"
      ],
      "execution_count": 8,
      "outputs": [
        {
          "output_type": "execute_result",
          "data": {
            "text/plain": [
              "Net(\n",
              "  (layers): ModuleList(\n",
              "    (0): Sequential(\n",
              "      (0): Conv2d(1, 20, kernel_size=(3, 3), stride=(1, 1))\n",
              "      (1): MaxPool2d(kernel_size=2, stride=2, padding=0, dilation=1, ceil_mode=False)\n",
              "      (2): ReLU()\n",
              "    )\n",
              "    (1): Sequential(\n",
              "      (0): Linear(in_features=3380, out_features=1690, bias=True)\n",
              "      (1): ReLU()\n",
              "    )\n",
              "    (2): Linear(in_features=1690, out_features=10, bias=True)\n",
              "  )\n",
              ")"
            ]
          },
          "metadata": {},
          "execution_count": 8
        }
      ]
    },
    {
      "cell_type": "code",
      "metadata": {
        "id": "qI44icM15LPf"
      },
      "source": [
        "config_dict = {\n",
        "    'epochs': 600,\n",
        "    'alpha': 1,\n",
        "    'lr': 1e-3,\n",
        "    'lr_sched': 'exp',\n",
        "    'gamma': 0.99,\n",
        "    'loss': 'abs',\n",
        "    'min_lr': 3e-4,\n",
        "    'max_lr': 3e-4,\n",
        "    'leaky_relu': 0.5,\n",
        "    'conv_actv': 'relu',\n",
        "    'use_bn': False,\n",
        "    'batch_size': 128,\n",
        "    'init_method': 'lecun_normal',\n",
        "    'optim': 'adam',\n",
        "    'momentum': 0.9\n",
        "}"
      ],
      "execution_count": 9,
      "outputs": []
    },
    {
      "cell_type": "code",
      "metadata": {
        "id": "ddEOwquY5LPg"
      },
      "source": [
        "def get_stats():\n",
        "    train_qmnist = datasets.QMNIST(INPUT_PATH/'qmnist', train = True, download= True,\n",
        "                             transform=transforms.ToTensor())\n",
        "    dataloader = torch.utils.data.DataLoader(train_qmnist, batch_size=128)\n",
        "    nimages = 0\n",
        "    mean = 0.0\n",
        "    var = 0.0\n",
        "    for i_batch, batch_target in enumerate(dataloader):\n",
        "        batch = batch_target[0]\n",
        "        # Rearrange batch to be the shape of [B, C, W * H]\n",
        "        batch = batch.view(batch.size(0), batch.size(1), -1)\n",
        "        # Update total number of images\n",
        "        nimages += batch.size(0)\n",
        "        # Compute mean and std here\n",
        "        mean += batch.mean(2).sum(0) \n",
        "        var += batch.var(2).sum(0)\n",
        "\n",
        "    mean /= nimages\n",
        "    var /= nimages\n",
        "    std = torch.sqrt(var)\n",
        "    return mean, std"
      ],
      "execution_count": 10,
      "outputs": []
    },
    {
      "cell_type": "code",
      "metadata": {
        "colab": {
          "base_uri": "https://localhost:8080/"
        },
        "id": "sUZ2frQV5LPg",
        "outputId": "de8b91d8-25c1-47ef-e3c1-f9f845677693"
      },
      "source": [
        "model(torch.rand((1, 1, 28, 28)).to(device))\n",
        "[print(val.size()) for val in model.forward_vals]"
      ],
      "execution_count": 11,
      "outputs": [
        {
          "output_type": "stream",
          "name": "stdout",
          "text": [
            "torch.Size([1, 20, 13, 13])\n",
            "torch.Size([1, 1690])\n",
            "torch.Size([1, 10])\n"
          ]
        },
        {
          "output_type": "execute_result",
          "data": {
            "text/plain": [
              "[None, None, None]"
            ]
          },
          "metadata": {},
          "execution_count": 11
        }
      ]
    },
    {
      "cell_type": "code",
      "metadata": {
        "colab": {
          "base_uri": "https://localhost:8080/"
        },
        "id": "VBfvsxbk5LPg",
        "outputId": "04762e5f-3cda-4787-9ef0-9bf09852be3c"
      },
      "source": [
        "from torch.nn.init import xavier_normal_, xavier_uniform_\n",
        "from torch.nn.init import zeros_, uniform_, _calculate_correct_fan, normal_\n",
        "from torch.nn.init import kaiming_uniform_, kaiming_normal_\n",
        "\n",
        "class InvNet(nn.Module):\n",
        "    def __init__(self, out_dim, out_channel, tgt_model):\n",
        "        super(InvNet, self).__init__()\n",
        "        \n",
        "        layers = []\n",
        "        for i, tgt_layer in enumerate(tgt_model.layers[::-1], 1):\n",
        "            if isinstance(tgt_layer, nn.Sequential):\n",
        "                tgt_layer = tgt_layer[0]\n",
        "            \n",
        "            if isinstance(tgt_layer, nn.Linear):\n",
        "                if len(tgt_model.forward_vals[-i-1].size()) > 2:\n",
        "                    out_size = tgt_model.forward_vals[-i-1].flatten(1).size(-1)\n",
        "                    self.first_conv_dim = tgt_model.forward_vals[-i-1].size()\n",
        "                else:\n",
        "                    out_size = tgt_model.forward_vals[-i-1].size(-1)\n",
        "                \n",
        "                # if i == 2:\n",
        "                    use_actv = True\n",
        "                # else:\n",
        "                #     use_actv = False\n",
        "\n",
        "                layer = self.get_linear_with_relu(tgt_model.forward_vals[-i].size(-1), out_size, config_dict['use_bn'], use_actv)\n",
        "            elif isinstance(tgt_layer, nn.Conv2d):\n",
        "                if i < len(tgt_model.layers):\n",
        "                    out_channel = tgt_model.forward_vals[-i-1].size(1)\n",
        "                    layer = self.get_conv_relu(tgt_model.forward_vals[-i].size(1), out_channel, 3, 1, 5, 1, \n",
        "                                               True if len(config_dict['conv_actv'])>0 else False,\n",
        "                                              config_dict['use_bn'])\n",
        "                else:\n",
        "                    out_channel = 1\n",
        "                    layer = self.get_upsample_and_conv(tgt_model.forward_vals[-i].size(1), out_channel, 2, 1, 0, 1, False, False)\n",
        "                \n",
        "            layers.append(layer)\n",
        "\n",
        "        self.conv_type = type(layers[-1][0])\n",
        "        self.layers = nn.ModuleList(layers)\n",
        "        self.forward_vals = []\n",
        "        \n",
        "    def forward(self, x):\n",
        "        self.forward_vals.clear()\n",
        "        for i, layer in enumerate(self.layers):\n",
        "            if isinstance(layer[0], self.conv_type) and len(x.size()) <= 2:\n",
        "                x = x.view(x.size(0), self.first_conv_dim[1], self.first_conv_dim[2], self.first_conv_dim[3])  # out dims of conv2d of target model\n",
        "            x = layer(x)\n",
        "            self.forward_vals.append(x)\n",
        "        return x\n",
        "    \n",
        "    def get_conv_relu(self, in_channel, num_filters, kernel_size, stride, padding, dilation, use_actv=True, use_bn=False):\n",
        "        sequential = nn.Sequential(nn.Conv2d(in_channel, num_filters, kernel_size, \n",
        "                                                    stride=stride, padding=padding, dilation=dilation,\n",
        "                                                    bias=True))\n",
        "        \n",
        "        if use_bn:\n",
        "            sequential.add_module('bn', nn.BatchNorm2d(num_filters))\n",
        "        \n",
        "        if use_actv:\n",
        "            sequential.add_module('actv', self.get_activation(config_dict['conv_actv']))\n",
        "            \n",
        "        return sequential\n",
        "\n",
        "    def get_upsample_and_conv(self, in_channel, num_filters, kernel_size, stride, padding, dilation, use_actv=True, use_bn=False):\n",
        "        sequential = nn.Sequential(nn.Upsample(size=29, mode='bilinear'),\n",
        "            nn.Conv2d(in_channel, num_filters, kernel_size,\n",
        "                                                    stride=stride, padding=padding, dilation=dilation,\n",
        "                                                    bias=True)\n",
        "            )\n",
        "        \n",
        "        if use_bn:\n",
        "            sequential.add_module('bn', nn.BatchNorm2d(num_filters))\n",
        "        \n",
        "        if use_actv:\n",
        "            sequential.add_module('actv', self.get_activation(config_dict['conv_actv']))\n",
        "            \n",
        "        return sequential\n",
        "\n",
        "    def get_conv_and_upsample(self, in_channel, num_filters, kernel_size, stride, padding, dilation, use_actv=True, use_bn=False):\n",
        "        sequential = nn.Sequential(nn.Conv2d(in_channel, num_filters, kernel_size,\n",
        "                                            stride=stride, padding=padding, dilation=dilation,\n",
        "                                            bias=True),\n",
        "                                   nn.Upsample(size=28, mode='bilinear')\n",
        "                                   )\n",
        "        \n",
        "        if use_bn:\n",
        "            sequential.add_module('bn', nn.BatchNorm2d(num_filters))\n",
        "        \n",
        "        if use_actv:\n",
        "            sequential.add_module('actv', self.get_activation(config_dict['conv_actv']))\n",
        "            \n",
        "        return sequential\n",
        "\n",
        "    def get_upsample_and_2_convs(self, in_channel, num_filters, kernel_size, stride, padding, dilation, use_actv=True, use_bn=False):\n",
        "        sequential = nn.Sequential(nn.Upsample(size=31, mode='bilinear'),\n",
        "            nn.Conv2d(in_channel, 10, 3, 1, 0, 1, bias=True),\n",
        "            nn.SELU(),\n",
        "            nn.Conv2d(10, num_filters, kernel_size, stride=stride,\n",
        "                      padding=padding, dilation=dilation,bias=True)\n",
        "            )\n",
        "        \n",
        "        if use_bn:\n",
        "            sequential.add_module('bn', nn.BatchNorm2d(num_filters))\n",
        "        \n",
        "        if use_actv:\n",
        "            sequential.add_module('actv', self.get_activation(config_dict['conv_actv']))\n",
        "            \n",
        "        return sequential\n",
        "\n",
        "    def get_activation(self, actv):\n",
        "        if actv == 'leaky_relu':\n",
        "            return nn.LeakyReLU(config_dict['leaky_relu'])\n",
        "        elif actv == 'relu':\n",
        "            return nn.ReLU()\n",
        "        elif actv == 'selu':\n",
        "            return nn.SELU()\n",
        "        elif actv == 'tanh':\n",
        "            return nn.Tanh()\n",
        "    \n",
        "    def get_linear_with_relu(self, inp, out, use_bn, use_actv=True):\n",
        "        sequential =  nn.Sequential(nn.Linear(inp, out))\n",
        "        if use_bn:\n",
        "            sequential.add_module('lin_bn', nn.BatchNorm1d(out))\n",
        "        if use_actv:\n",
        "            sequential.add_module('lin_actv', self.get_activation(config_dict['conv_actv']))\n",
        "        return sequential\n",
        "\n",
        "\n",
        "def lecun_normal_(weight, mode):\n",
        "    fan = _calculate_correct_fan(weight, mode)\n",
        "    print(fan)\n",
        "    limit = torch.sqrt(3/torch.tensor(fan))\n",
        "    normal_(weight, -limit, limit)\n",
        "\n",
        "\n",
        "def init_weights(layer):\n",
        "    def init_(data):\n",
        "        if config_dict['init_method'] == 'he_normal':\n",
        "            kaiming_normal_(data, a=config_dict['leaky_relu'], nonlinearity='selu')\n",
        "        elif config_dict['init_method'] == 'xavier_normal':\n",
        "            xavier_normal_(data)\n",
        "        elif config_dict['init_method'] == 'lecun_normal':\n",
        "            lecun_normal_(data, 'fan_in') \n",
        "\n",
        "    if isinstance(layer, nn.Linear):\n",
        "        init_(layer.weight)\n",
        "        # zeros_(layer.bias)\n",
        "    elif isinstance(layer, nn.Conv2d):\n",
        "        init_(layer.weight)\n",
        "        # zeros_(layer.bias)\n",
        "\n",
        "\n",
        "inv_model = InvNet(28, 1, model)\n",
        "inv_model.apply(init_weights)\n",
        "inv_model.to(device)\n",
        "# mean, std = get_stats()\n",
        "transform=transforms.Compose([\n",
        "        transforms.ToTensor(),\n",
        "        transforms.Normalize((0.1307,), (0.3081,))\n",
        "        ])\n",
        "\n",
        "batch_size = config_dict['batch_size']\n",
        "test_kwargs = {'batch_size': batch_size,\n",
        "              'shuffle': True}\n",
        "train_qmnist = datasets.QMNIST(INPUT_PATH/'qmnist', train = True, download= True,\n",
        "                             transform=transform) \n",
        "test_qmnist = datasets.QMNIST(INPUT_PATH/'qmnist', train = False, download= True,\n",
        "                             transform=transform)\n",
        "\n",
        "print(f'size of inv data={train_qmnist}')\n",
        "inv_data_loader = torch.utils.data.DataLoader(train_qmnist, **test_kwargs)\n",
        "\n",
        "if config_dict['loss'] == 'mse':\n",
        "    loss_fn = nn.MSELoss()\n",
        "elif config_dict['loss'] == 'huber':\n",
        "    loss_fn = nn.HuberLoss()\n",
        "else:\n",
        "    loss_fn = nn.L1Loss()\n",
        "\n",
        "if config_dict['optim'] == 'adam':\n",
        "    optimizer = optim.Adam(inv_model.parameters(), lr=config_dict['lr'])\n",
        "elif config_dict['optim'] == 'sgd':\n",
        "    optimizer = optim.SGD(inv_model.parameters(), lr=config_dict['lr'],\n",
        "                          momentum=config_dict['momentum'], nesterov=True)\n",
        "elif config_dict['optim'] == 'nadam':\n",
        "    optimizer = optim.NAdam(inv_model.parameters(), lr=config_dict['lr'])\n",
        "\n",
        "lr_sched = None\n",
        "if config_dict['lr_sched'] == 'exp':\n",
        "    lr_sched = optim.lr_scheduler.ExponentialLR(optimizer, config_dict['gamma'], verbose=False)\n",
        "# elif config_dict['lr_sched'] == '1cycle':\n",
        "#     lr_sched = optim.lr_scheduler.OneCycleLR(optimizer, max_lr=config_dict['max_lr'],\n",
        "#                                              epochs=config_dict['epochs'], \n",
        "#                                              steps_per_epoch=len(inv_data_loader),\n",
        "#                                              verbose=False)\n",
        "\n",
        "print(inv_model,'\\n', loss_fn, lr_sched)\n",
        "o = inv_model(torch.rand((2, 10)).to(device))\n",
        "print(f'out_size={o.size()}')\n",
        "[val.size() for val in inv_model.forward_vals], inv_model.first_conv_dim"
      ],
      "execution_count": 12,
      "outputs": [
        {
          "output_type": "stream",
          "name": "stdout",
          "text": [
            "10\n",
            "1690\n",
            "80\n",
            "size of inv data=Dataset QMNIST\n",
            "    Number of datapoints: 60000\n",
            "    Root location: /content/drive/My Drive/ML_Training_Data/inverse-of-neural-net/inputs/mnist/cnn/qmnist\n",
            "    Split: train\n",
            "    StandardTransform\n",
            "Transform: Compose(\n",
            "               ToTensor()\n",
            "               Normalize(mean=(0.1307,), std=(0.3081,))\n",
            "           )\n",
            "InvNet(\n",
            "  (layers): ModuleList(\n",
            "    (0): Sequential(\n",
            "      (0): Linear(in_features=10, out_features=1690, bias=True)\n",
            "      (lin_actv): ReLU()\n",
            "    )\n",
            "    (1): Sequential(\n",
            "      (0): Linear(in_features=1690, out_features=3380, bias=True)\n",
            "      (lin_actv): ReLU()\n",
            "    )\n",
            "    (2): Sequential(\n",
            "      (0): Upsample(size=29, mode=bilinear)\n",
            "      (1): Conv2d(20, 1, kernel_size=(2, 2), stride=(1, 1))\n",
            "    )\n",
            "  )\n",
            ") \n",
            " L1Loss() <torch.optim.lr_scheduler.ExponentialLR object at 0x7fcdd0344d10>\n",
            "out_size=torch.Size([2, 1, 28, 28])\n"
          ]
        },
        {
          "output_type": "execute_result",
          "data": {
            "text/plain": [
              "([torch.Size([2, 1690]), torch.Size([2, 3380]), torch.Size([2, 1, 28, 28])],\n",
              " torch.Size([1, 20, 13, 13]))"
            ]
          },
          "metadata": {},
          "execution_count": 12
        }
      ]
    },
    {
      "cell_type": "code",
      "metadata": {
        "id": "QBY3agEC5LPh"
      },
      "source": [
        "# s = []\n",
        "# for batch, tgt in inv_data_loader:\n",
        "#     s.append((batch[0].unsqueeze(0), tgt[0]))\n",
        "#     s.append((batch[1].unsqueeze(0), tgt[1]))\n",
        "#     break\n",
        "# len(inv_data_loader), len(s)# inv_model(torch.rand((1, 10, )).to(device)).size()"
      ],
      "execution_count": 13,
      "outputs": []
    },
    {
      "cell_type": "code",
      "metadata": {
        "id": "amxVycuh5LPh"
      },
      "source": [
        "# for t in s:\n",
        "#     print(t[0].size(), t[1])"
      ],
      "execution_count": 14,
      "outputs": []
    },
    {
      "cell_type": "code",
      "metadata": {
        "tags": [],
        "colab": {
          "base_uri": "https://localhost:8080/",
          "height": 298
        },
        "id": "MpNjyLri5LPi",
        "outputId": "5c9179c2-7c81-4f1e-9207-16ddfdb7f569"
      },
      "source": [
        "from matplotlib import pyplot as plt\n",
        "import random\n",
        "\n",
        "for i in range(6):\n",
        "    example_data, example_target = test_qmnist[random.randint(0, len(test_qmnist))]\n",
        "    ax = plt.subplot(2,3,i+1)\n",
        "    ax.set_title(f'label={example_target}')\n",
        "    plt.imshow(example_data.squeeze(), cmap='gray')\n",
        "plt.tight_layout()\n",
        "plt.show()"
      ],
      "execution_count": 15,
      "outputs": [
        {
          "output_type": "display_data",
          "data": {
            "image/png": "[encoded data removed]",
            "text/plain": [
              "<Figure size 432x288 with 6 Axes>"
            ]
          },
          "metadata": {
            "needs_background": "light"
          }
        }
      ]
    },
    {
      "cell_type": "code",
      "metadata": {
        "id": "8fsF3hMv5LPi"
      },
      "source": [
        "def get_layer_map(model):\n",
        "    layer_map = {}\n",
        "    for i in range(len(model.layers)):\n",
        "        layer_map[i] = len(model.layers)-(i+1)\n",
        "    print(f'layer_map={layer_map}')\n",
        "    return layer_map"
      ],
      "execution_count": 16,
      "outputs": []
    },
    {
      "cell_type": "code",
      "metadata": {
        "id": "t-1qFJLf5LPi"
      },
      "source": [
        "def layer_wise_loss(model, inv_model, inp, k=-1):\n",
        "    loss = 0\n",
        "    for layer_num, layer in enumerate(model.layers[:k+1] if k > -1 else model.layers):\n",
        "        tgt_layer_in = inp if layer_num == 0 else model.forward_vals[layer_num-1]  # get the input tensor for this layer in tgt model\n",
        "        tgt_layer_out = model.forward_vals[layer_num]  # get the output of i-th target model layer \n",
        "        inv_layer = inv_model.layers[tgt_to_inv_layer_map[layer_num]]  # get the corresponding layer in reverse model\n",
        "        inv_layer_out = inv_layer(tgt_layer_out)  # feed the target model layer output to reverse model layer\n",
        "        if inv_layer_out.size(-1) != tgt_layer_in.size(-1):\n",
        "            tgt_layer_in = tgt_layer_in.flatten(1)\n",
        "        loss += loss_fn(inv_layer_out, tgt_layer_in)  # outputs of both layer should be similar\n",
        "        \n",
        "    return loss\n",
        "\n",
        "\n",
        "def layer_wise_loss_progressive(model, inv_model, inp, layer_num):\n",
        "    tgt_layer_in = inp if layer_num == 0 else model.forward_vals[layer_num-1]  # get the input tensor for this layer in tgt model\n",
        "    tgt_layer_out = model.forward_vals[layer_num]  # get the output of i-th target model layer \n",
        "    inv_layer = inv_model.layers[tgt_to_inv_layer_map[layer_num]]  # get the corresponding layer in reverse model\n",
        "    inv_layer_out = inv_layer(tgt_layer_out)  # feed the target model layer output to reverse model layer\n",
        "    if inv_layer_out.size(-1) != tgt_layer_in.size(-1):\n",
        "        tgt_layer_in = tgt_layer_in.flatten(1)\n",
        "    return loss_fn(inv_layer_out, tgt_layer_in)  # outputs of both layer should be similar\n",
        "\n",
        "\n",
        "def k_layer_loss(model, inv_model, inp, k=-1):\n",
        "    loss = 0\n",
        "    for layer_num, layer_ in enumerate(model.layers[:k+1] if k > -1 else model.layers):\n",
        "        tgt_layer_out = model.forward_vals[layer_num]\n",
        "        x = tgt_layer_out\n",
        "        for layer in inv_model.layers[-(1+layer_num):]:\n",
        "            if isinstance(layer[0], inv_model.conv_type) and len(x.size()) < 4:\n",
        "                x = x.view(x.size(0), inv_model.first_conv_dim[1], inv_model.first_conv_dim[2], inv_model.first_conv_dim[3])\n",
        "            x = layer(x)\n",
        "        loss += loss_fn(x, inp)\n",
        "    \n",
        "    return loss\n",
        "\n",
        "\n",
        "def k_layer_loss_progressive(model, inv_model, inp, layer_num):\n",
        "    tgt_layer_out = model.forward_vals[layer_num]\n",
        "    x = tgt_layer_out\n",
        "    for layer in inv_model.layers[-(1+layer_num):]:\n",
        "        if isinstance(layer[0], inv_model.conv_type) and len(x.size()) < 4:\n",
        "            x = x.view(x.size(0), inv_model.first_conv_dim[1], inv_model.first_conv_dim[2], inv_model.first_conv_dim[3])\n",
        "        x = layer(x)\n",
        "    return loss_fn(x, inp)\n",
        "\n",
        "\n",
        "def cycle_consistency_inversion_loss(model, inp, inv_out, k=-1):\n",
        "    org_activations = copy.deepcopy(model.forward_vals[:k+1] if k > -1 else model.forward_vals)\n",
        "    out_for_inv_input = model(inv_out)  # pass the input image generated by inverted network\n",
        "    inv_activations = model.forward_vals[:k+1] if k > -1 else model.forward_vals\n",
        "    loss = 0\n",
        "    for org_actv, actv in zip(org_activations, inv_activations):\n",
        "        loss += loss_fn(actv, org_actv)\n",
        "        \n",
        "    return loss"
      ],
      "execution_count": 17,
      "outputs": []
    },
    {
      "cell_type": "markdown",
      "metadata": {
        "id": "fgsJU62T-8ms"
      },
      "source": [
        "### all loss together"
      ]
    },
    {
      "cell_type": "code",
      "metadata": {
        "colab": {
          "base_uri": "https://localhost:8080/"
        },
        "id": "HCrx37R1-6jg",
        "outputId": "1ff1565b-168c-4843-a495-c05b5d71872a"
      },
      "source": [
        "import copy\n",
        "\n",
        "tgt_to_inv_layer_map = get_layer_map(model)\n",
        "\n",
        "def train_inv(model, inv_model, device, data_loader, optimizer, epoch, alpha, layer_wise_only=False, layer_num=-1):\n",
        "    model.train()\n",
        "    \n",
        "    total_loss = 0\n",
        "    total_loss_layer = 0\n",
        "    total_loss_img = 0\n",
        "    total_loss_cyc = 0\n",
        "    \n",
        "    for batch_idx, (data, target) in enumerate(data_loader):\n",
        "        data, target = data.to(device), target.to(device)\n",
        "        optimizer.zero_grad()\n",
        "    \n",
        "        out = model(data)  \n",
        "        inv_out = inv_model(out)\n",
        "        \n",
        "        # step 1- layer wise load\n",
        "        loss_layer = layer_wise_loss(model, inv_model, data)\n",
        "        \n",
        "        if not layer_wise_only:\n",
        "            # step 2- upto layer-k loss\n",
        "            loss_img = k_layer_loss(model, inv_model, data)\n",
        "\n",
        "            # step 3- full network output loss\n",
        "            loss_cyc = cycle_consistency_inversion_loss(model, data, inv_out)\n",
        "        else:\n",
        "            loss_img = torch.tensor(0)\n",
        "            loss_cyc = torch.tensor(0)\n",
        "        \n",
        "        loss = loss_layer + loss_img + (alpha*loss_cyc)\n",
        "        \n",
        "        loss.backward()\n",
        "        optimizer.step()\n",
        "        \n",
        "        total_loss += loss.item()\n",
        "        total_loss_layer += loss_layer.item()\n",
        "        total_loss_img += loss_img.item()\n",
        "        total_loss_cyc += loss_cyc.item()\n",
        "        \n",
        "    return total_loss / (batch_idx+1), total_loss_layer / (batch_idx+1), \\\n",
        "            total_loss_img / (batch_idx+1), total_loss_cyc / (batch_idx+1)"
      ],
      "execution_count": 18,
      "outputs": [
        {
          "output_type": "stream",
          "name": "stdout",
          "text": [
            "layer_map={0: 2, 1: 1, 2: 0}\n"
          ]
        }
      ]
    },
    {
      "cell_type": "markdown",
      "metadata": {
        "id": "yuFHx2lR_DWc"
      },
      "source": [
        "### gradual loss calculation"
      ]
    },
    {
      "cell_type": "code",
      "metadata": {
        "colab": {
          "base_uri": "https://localhost:8080/"
        },
        "id": "PPhCD4Lg_JIt",
        "outputId": "bc309555-6f00-4b4e-d9d2-b0e07c322acb"
      },
      "source": [
        "import copy\n",
        "\n",
        "tgt_to_inv_layer_map = get_layer_map(model)\n",
        "\n",
        "def train_inv_gradual(model, inv_model, device, data_loader, optimizer, epoch, alpha):\n",
        "    model.train()\n",
        "\n",
        "    for batch_idx, (data, target) in enumerate(data_loader):\n",
        "        data, target = data.to(device), target.to(device)  # torch.Size([128, 784]) torch.Size([128])\n",
        "        optimizer.zero_grad()\n",
        "    \n",
        "        out = model(data)  \n",
        "        inv_out = inv_model(out)\n",
        "        \n",
        "        # step 1- layer wise load\n",
        "        loss_layer = layer_wise_loss(model, inv_model, data)\n",
        "        \n",
        "        loss = loss_layer\n",
        "        \n",
        "        loss.backward()\n",
        "        optimizer.step()\n",
        "\n",
        "    for batch_idx, (data, target) in enumerate(data_loader):\n",
        "        data, target = data.to(device), target.to(device)  # torch.Size([128, 784]) torch.Size([128])\n",
        "        optimizer.zero_grad()\n",
        "    \n",
        "        out = model(data)  \n",
        "        inv_out = inv_model(out)\n",
        "        \n",
        "        # step 1- layer wise load\n",
        "        loss_layer = layer_wise_loss(model, inv_model, data)\n",
        "        \n",
        "        # step 2- upto layer-k loss\n",
        "        loss_img = k_layer_loss(model, inv_model, data)\n",
        "        \n",
        "        loss = loss_layer + loss_img\n",
        "        \n",
        "        loss.backward()\n",
        "        optimizer.step()\n",
        "    \n",
        "    total_loss = 0\n",
        "    total_loss_layer = 0\n",
        "    total_loss_img = 0\n",
        "    total_loss_cyc = 0\n",
        "    \n",
        "    for batch_idx, (data, target) in enumerate(data_loader):\n",
        "        data, target = data.to(device), target.to(device)  # torch.Size([128, 784]) torch.Size([128])\n",
        "        optimizer.zero_grad()\n",
        "    \n",
        "        out = model(data)  \n",
        "        inv_out = inv_model(out)\n",
        "        \n",
        "        # step 1- layer wise load\n",
        "        loss_layer = layer_wise_loss(model, inv_model, data)\n",
        "        \n",
        "        # step 2- upto layer-k loss\n",
        "        loss_img = k_layer_loss(model, inv_model, data)\n",
        "\n",
        "        # step 3- full network output loss\n",
        "        loss_cyc = cycle_consistency_inversion_loss(model, data, inv_out)\n",
        "        \n",
        "        loss = loss_layer + loss_img + (alpha*loss_cyc)\n",
        "        \n",
        "        loss.backward()\n",
        "        optimizer.step()\n",
        "        \n",
        "        total_loss += loss.item()\n",
        "        total_loss_layer += loss_layer.item()\n",
        "        total_loss_img += loss_img.item()\n",
        "        total_loss_cyc += loss_cyc.item()\n",
        "        \n",
        "    return total_loss / (batch_idx+1), total_loss_layer / (batch_idx+1), \\\n",
        "            total_loss_img / (batch_idx+1), total_loss_cyc / (batch_idx+1)"
      ],
      "execution_count": 19,
      "outputs": [
        {
          "output_type": "stream",
          "name": "stdout",
          "text": [
            "layer_map={0: 2, 1: 1, 2: 0}\n"
          ]
        }
      ]
    },
    {
      "cell_type": "markdown",
      "metadata": {
        "id": "JpS9awQRfpW9"
      },
      "source": [
        "### Progressive optimization of each layer"
      ]
    },
    {
      "cell_type": "code",
      "metadata": {
        "colab": {
          "base_uri": "https://localhost:8080/"
        },
        "id": "uZqN3U2TfucF",
        "outputId": "db334450-043f-4c85-cd24-aa3a2fdf2576"
      },
      "source": [
        "tgt_to_inv_layer_map = get_layer_map(model)\n",
        "\n",
        "def train_inv_progressive(model, inv_model, device, data_loader, optimizer, epoch, alpha, layer_wise_only=False):\n",
        "    model.train()\n",
        "    \n",
        "    total_loss = 0\n",
        "    total_loss_layer = 0\n",
        "    total_loss_img = 0\n",
        "    total_loss_cyc = 0\n",
        "    \n",
        "    for layer_num in range(len(model.layers)):\n",
        "        for batch_idx, (data, target) in enumerate(data_loader):\n",
        "            data, target = data.to(device), target.to(device)\n",
        "            optimizer.zero_grad()\n",
        "\n",
        "            out = model(data)\n",
        "            org_activations = copy.deepcopy(model.forward_vals) \n",
        "            inv_out = inv_model(out)\n",
        "            out_for_inv = model(inv_out)\n",
        "\n",
        "            loss = layer_wise_loss_progressive(model, inv_model, data, layer_num) + \\\n",
        "                    k_layer_loss_progressive(model, inv_model, data, layer_num) + \\\n",
        "                    (alpha * loss_fn(model.forward_vals[layer_num], org_activations[layer_num]))\n",
        "            \n",
        "            loss.backward()\n",
        "            optimizer.step()\n",
        "        \n",
        "        # this means I am not training inv_model conv2d with these losses!! is it an issue?\n",
        "        # also, does \"fine-tune\" mean, after training a inv_layer k, all layers 1..k are taken as single module and optimized again using L_k?s\n",
        "        if layer_num > 0:\n",
        "            for batch_idx, (data, target) in enumerate(data_loader):\n",
        "                data, target = data.to(device), target.to(device)\n",
        "                optimizer.zero_grad()\n",
        "\n",
        "                out = model(data)  \n",
        "                inv_out = inv_model(out)\n",
        "\n",
        "                loss_layer = layer_wise_loss(model, inv_model, data, layer_num)\n",
        "                loss_img = k_layer_loss(model, inv_model, data, layer_num)\n",
        "                loss_cyc = cycle_consistency_inversion_loss(model, data, inv_out, layer_num)\n",
        "\n",
        "                loss = loss_layer + loss_img + (alpha*loss_cyc)\n",
        "\n",
        "                loss.backward()\n",
        "                optimizer.step()\n",
        "\n",
        "                total_loss += loss.item()\n",
        "                total_loss_layer += loss_layer.item()\n",
        "                total_loss_img += loss_img.item()\n",
        "                total_loss_cyc += loss_cyc.item()\n",
        "    \n",
        "    div = (batch_idx+1)*(len(inv_model.layers)-1)\n",
        "    return total_loss / div, total_loss_layer / div, \\\n",
        "            total_loss_img / div, total_loss_cyc / div"
      ],
      "execution_count": 20,
      "outputs": [
        {
          "output_type": "stream",
          "name": "stdout",
          "text": [
            "layer_map={0: 2, 1: 1, 2: 0}\n"
          ]
        }
      ]
    },
    {
      "cell_type": "code",
      "metadata": {
        "id": "MXe_E5U_5LPj",
        "colab": {
          "base_uri": "https://localhost:8080/"
        },
        "outputId": "2bbf83ce-d5d1-4e6f-cd8a-b1d479ce61b9"
      },
      "source": [
        "run_id = 'newProgressive' #'3layer_lRelu_nadam_convThenUpsample_progressive_lecunNormalInit'  # '3layer_xavierUniformInit_largerLR3e-4'\n",
        "change_desc = 'new progressive, tgt_model with relu, inv_model with relu & upsample+conv; after 500 epochs lr 1e-3 to 3e-4'\n",
        "is_resume = True\n",
        "run_path = OUTPUT_PATH/'runs'/run_id\n",
        "state_path = run_path/'final_state_3layer_inv_nn.pt'\n",
        "best_model_path = run_path/'state_3layer_inv_nn.pt'\n",
        "\n",
        "!pip install wandb"
      ],
      "execution_count": 21,
      "outputs": [
        {
          "output_type": "stream",
          "name": "stdout",
          "text": [
            "Collecting wandb\n",
            "  Downloading wandb-0.12.7-py2.py3-none-any.whl (1.7 MB)\n",
            "\u001b[K     |████████████████████████████████| 1.7 MB 13.5 MB/s \n",
            "\u001b[?25hRequirement already satisfied: six>=1.13.0 in /usr/local/lib/python3.7/dist-packages (from wandb) (1.15.0)\n",
            "Requirement already satisfied: promise<3,>=2.0 in /usr/local/lib/python3.7/dist-packages (from wandb) (2.3)\n",
            "Collecting docker-pycreds>=0.4.0\n",
            "  Downloading docker_pycreds-0.4.0-py2.py3-none-any.whl (9.0 kB)\n",
            "Requirement already satisfied: Click!=8.0.0,>=7.0 in /usr/local/lib/python3.7/dist-packages (from wandb) (7.1.2)\n",
            "Collecting configparser>=3.8.1\n",
            "  Downloading configparser-5.1.0-py3-none-any.whl (19 kB)\n",
            "Collecting GitPython>=1.0.0\n",
            "  Downloading GitPython-3.1.24-py3-none-any.whl (180 kB)\n",
            "\u001b[K     |████████████████████████████████| 180 kB 73.7 MB/s \n",
            "\u001b[?25hCollecting subprocess32>=3.5.3\n",
            "  Downloading subprocess32-3.5.4.tar.gz (97 kB)\n",
            "\u001b[K     |████████████████████████████████| 97 kB 9.6 MB/s \n",
            "\u001b[?25hRequirement already satisfied: protobuf>=3.12.0 in /usr/local/lib/python3.7/dist-packages (from wandb) (3.17.3)\n",
            "Requirement already satisfied: python-dateutil>=2.6.1 in /usr/local/lib/python3.7/dist-packages (from wandb) (2.8.2)\n",
            "Requirement already satisfied: requests<3,>=2.0.0 in /usr/local/lib/python3.7/dist-packages (from wandb) (2.23.0)\n",
            "Collecting yaspin>=1.0.0\n",
            "  Downloading yaspin-2.1.0-py3-none-any.whl (18 kB)\n",
            "Requirement already satisfied: PyYAML in /usr/local/lib/python3.7/dist-packages (from wandb) (3.13)\n",
            "Collecting sentry-sdk>=1.0.0\n",
            "  Downloading sentry_sdk-1.5.0-py2.py3-none-any.whl (140 kB)\n",
            "\u001b[K     |████████████████████████████████| 140 kB 65.7 MB/s \n",
            "\u001b[?25hCollecting pathtools\n",
            "  Downloading pathtools-0.1.2.tar.gz (11 kB)\n",
            "Requirement already satisfied: psutil>=5.0.0 in /usr/local/lib/python3.7/dist-packages (from wandb) (5.4.8)\n",
            "Collecting shortuuid>=0.5.0\n",
            "  Downloading shortuuid-1.0.8-py3-none-any.whl (9.5 kB)\n",
            "Requirement already satisfied: typing-extensions>=3.7.4.3 in /usr/local/lib/python3.7/dist-packages (from GitPython>=1.0.0->wandb) (3.10.0.2)\n",
            "Collecting gitdb<5,>=4.0.1\n",
            "  Downloading gitdb-4.0.9-py3-none-any.whl (63 kB)\n",
            "\u001b[K     |████████████████████████████████| 63 kB 2.0 MB/s \n",
            "\u001b[?25hCollecting smmap<6,>=3.0.1\n",
            "  Downloading smmap-5.0.0-py3-none-any.whl (24 kB)\n",
            "Requirement already satisfied: idna<3,>=2.5 in /usr/local/lib/python3.7/dist-packages (from requests<3,>=2.0.0->wandb) (2.10)\n",
            "Requirement already satisfied: certifi>=2017.4.17 in /usr/local/lib/python3.7/dist-packages (from requests<3,>=2.0.0->wandb) (2021.10.8)\n",
            "Requirement already satisfied: chardet<4,>=3.0.2 in /usr/local/lib/python3.7/dist-packages (from requests<3,>=2.0.0->wandb) (3.0.4)\n",
            "Requirement already satisfied: urllib3!=1.25.0,!=1.25.1,<1.26,>=1.21.1 in /usr/local/lib/python3.7/dist-packages (from requests<3,>=2.0.0->wandb) (1.24.3)\n",
            "Requirement already satisfied: termcolor<2.0.0,>=1.1.0 in /usr/local/lib/python3.7/dist-packages (from yaspin>=1.0.0->wandb) (1.1.0)\n",
            "Building wheels for collected packages: subprocess32, pathtools\n",
            "  Building wheel for subprocess32 (setup.py) ... \u001b[?25l\u001b[?25hdone\n",
            "  Created wheel for subprocess32: filename=subprocess32-3.5.4-py3-none-any.whl size=6502 sha256=b6a39c7b281840c229979ee5be4976c0b10063213daf5b141952beceea3eb681\n",
            "  Stored in directory: /root/.cache/pip/wheels/50/ca/fa/8fca8d246e64f19488d07567547ddec8eb084e8c0d7a59226a\n",
            "  Building wheel for pathtools (setup.py) ... \u001b[?25l\u001b[?25hdone\n",
            "  Created wheel for pathtools: filename=pathtools-0.1.2-py3-none-any.whl size=8807 sha256=2f1b68aa4932166417cd990e1a746cb043920f0b9a869917be3712a2cd37b281\n",
            "  Stored in directory: /root/.cache/pip/wheels/3e/31/09/fa59cef12cdcfecc627b3d24273699f390e71828921b2cbba2\n",
            "Successfully built subprocess32 pathtools\n",
            "Installing collected packages: smmap, gitdb, yaspin, subprocess32, shortuuid, sentry-sdk, pathtools, GitPython, docker-pycreds, configparser, wandb\n",
            "Successfully installed GitPython-3.1.24 configparser-5.1.0 docker-pycreds-0.4.0 gitdb-4.0.9 pathtools-0.1.2 sentry-sdk-1.5.0 shortuuid-1.0.8 smmap-5.0.0 subprocess32-3.5.4 wandb-0.12.7 yaspin-2.1.0\n"
          ]
        }
      ]
    },
    {
      "cell_type": "markdown",
      "metadata": {
        "id": "kZaLlyybOGZf"
      },
      "source": [
        "### uncomment and run below cells for LR finder graph"
      ]
    },
    {
      "cell_type": "code",
      "metadata": {
        "id": "S-leH7JbPxrh"
      },
      "source": [
        "# len(inv_data_loader)"
      ],
      "execution_count": 22,
      "outputs": []
    },
    {
      "cell_type": "code",
      "metadata": {
        "id": "Jyr3iMgFN12Z"
      },
      "source": [
        "# import numpy as np\n",
        "\n",
        "# losses = []\n",
        "# lrs = []\n",
        "# lr_low = 1e-6\n",
        "# lr_high = 10\n",
        "# step = np.exp(np.log(10**7)/700)\n",
        "# lr = lr_low\n",
        "# alpha = config_dict['alpha']\n",
        "\n",
        "# while len(lrs) == 0 or lrs[-1] < lr_high:\n",
        "#     for batch_idx, (data, target) in enumerate(inv_data_loader):\n",
        "#         data, target = data.to(device), target.to(device)  # torch.Size([128, 784]) torch.Size([128])\n",
        "#         optimizer.zero_grad()\n",
        "\n",
        "#         out = model(data)  \n",
        "#         inv_out = inv_model(out)\n",
        "        \n",
        "#         # step 1- layer wise load\n",
        "#         loss_layer = layer_wise_loss(model, inv_model, data)\n",
        "        \n",
        "#         # step 2- upto layer-k loss\n",
        "#         loss_img = k_layer_loss(model, inv_model, data)\n",
        "\n",
        "#         # step 3- full network output loss\n",
        "#         loss_cyc = cycle_consistency_inversion_loss(model, data, inv_out)\n",
        "        \n",
        "#         loss = loss_layer + loss_img + (alpha*loss_cyc)\n",
        "        \n",
        "#         loss.backward()\n",
        "#         optimizer.step()\n",
        "\n",
        "#         losses.append(loss.item())\n",
        "#         lrs.append(lr)\n",
        "\n",
        "#         if lr >= lr_high:\n",
        "#             break\n",
        "        \n",
        "#         lr = lr*step\n",
        "\n",
        "# print(f'len of lists {len(losses)}, {len(lrs)}')"
      ],
      "execution_count": 23,
      "outputs": []
    },
    {
      "cell_type": "code",
      "metadata": {
        "id": "DnKYRvVhQPeN"
      },
      "source": [
        "# from matplotlib import pyplot as plt\n",
        "\n",
        "# plt.figure(figsize=(25, 10))\n",
        "# # plt.xticks(np.log(lrs), ['{:0.3e}'.format(i) for i in lrs])\n",
        "# plt.plot(np.log10(lrs), losses)\n",
        "# lr_finder_path = run_path/f'{run_id}_lr_finder1.png'\n",
        "# run_path.mkdir(parents=True, exist_ok=True)\n",
        "# plt.savefig(lr_finder_path)\n",
        "# plt.show()"
      ],
      "execution_count": 24,
      "outputs": []
    },
    {
      "cell_type": "markdown",
      "metadata": {
        "id": "v9HSRg-UQRvW"
      },
      "source": [
        "### Training code"
      ]
    },
    {
      "cell_type": "code",
      "metadata": {
        "tags": [],
        "colab": {
          "base_uri": "https://localhost:8080/"
        },
        "id": "TJcplO3Y5LPj",
        "outputId": "a390b9b2-9733-464b-cbab-752065a8affa"
      },
      "source": [
        "import time\n",
        "import sys\n",
        "import wandb\n",
        "import os\n",
        "import numpy as np\n",
        "\n",
        "\n",
        "def round_(n, d=5):\n",
        "    return np.round(n, d)\n",
        "\n",
        "\n",
        "run_path.mkdir(parents=True, exist_ok=True)\n",
        "\n",
        "EPOCHS = config_dict['epochs']\n",
        "ALPHA = config_dict['alpha']\n",
        "start_epoch = 0\n",
        "prev_best_loss = 999999\n",
        "total_training_time = 0\n",
        "\n",
        "if is_resume and state_path.exists():\n",
        "    state = torch.load(state_path)\n",
        "    inv_model.load_state_dict(state['model_state'])\n",
        "    optimizer.load_state_dict(state['optimizer'])\n",
        "    if lr_sched:\n",
        "        lr_sched.load_state_dict(state['lr_sched'])\n",
        "    start_epoch = state['epoch']+1\n",
        "    prev_best_loss = state['prev_best_loss']\n",
        "\n",
        "    # TODO remove later !!!!!!!!!!!!!!!!!!!!!!!!!!!!!!!!!!!!!!!!!!!!!!!!!!!!!!!!!!\n",
        "    # for g in optimizer.param_groups:\n",
        "    #     g['lr'] = config_dict['lr']\n",
        "\n",
        "    print(f'resuming training for {run_id} from epoch {start_epoch}, last loss {state[\"loss\"]} prev_best_loss {prev_best_loss}')\n",
        "    \n",
        "\n",
        "wandb.init(project='nn-are-reversible',\n",
        "           entity='nayash', save_code=True, id=run_id,\n",
        "           name=run_id, notes=change_desc,\n",
        "           dir=run_path,\n",
        "           resume='allow',\n",
        "           config=config_dict)\n",
        "wandb.watch(inv_model)\n",
        "wandb.log({'model_arch': str(inv_model)})\n",
        "\n",
        "if run_id in ['test', 'temp']:\n",
        "    os.environ['WANDB_MODE'] = 'offline'\n",
        "    print(f'run_id={run_id}, so wandb is disabled!')\n",
        "          \n",
        "for epoch in range(start_epoch, EPOCHS):\n",
        "    stime = time.time()\n",
        "    total_loss, total_loss_layer, total_loss_img, total_loss_cyc = \\\n",
        "        train_inv_progressive(model, inv_model, device, inv_data_loader, optimizer, epoch, ALPHA)\n",
        "\n",
        "    epoch_time = time.time() - stime\n",
        "    total_training_time += epoch_time\n",
        "    \n",
        "    print(f'epoch={epoch}/{EPOCHS} loss={round_(total_loss)}, loss_layer={round_(total_loss_layer)}, loss_img={round_(total_loss_img)}, loss_cyc={round_(total_loss_cyc)}, epoch_duration={round(epoch_time)} secs')\n",
        "    \n",
        "    wandb.log({\n",
        "        'loss':total_loss,\n",
        "        'loss_layer':total_loss_layer,\n",
        "        'loss_img':total_loss_img,\n",
        "        'loss_cyc':total_loss_cyc,\n",
        "        'lr': optimizer.param_groups[0]['lr']\n",
        "    })\n",
        "    \n",
        "    if lr_sched is not None and optimizer.param_groups[0]['lr'] > config_dict['min_lr']:\n",
        "        lr_sched.step()\n",
        "    \n",
        "    if total_loss < prev_best_loss:\n",
        "        prev_best_loss = total_loss\n",
        "        state = {\n",
        "            'model_state': inv_model.state_dict(),\n",
        "            'optimizer': optimizer.state_dict(),\n",
        "            'lr_sched': lr_sched.state_dict() if lr_sched else None,\n",
        "            'epoch': epoch,\n",
        "            'loss': prev_best_loss,\n",
        "            'prev_best_loss': prev_best_loss\n",
        "        }\n",
        "        torch.save(state, best_model_path)\n",
        "        print(f'new best loss={total_loss}')\n",
        "\n",
        "        \n",
        "state = {\n",
        "    'model_state': inv_model.state_dict(),\n",
        "    'optimizer': optimizer.state_dict(),\n",
        "    'lr_sched': lr_sched.state_dict() if lr_sched else None,\n",
        "    'epoch': epoch,\n",
        "    'loss': total_loss,\n",
        "    'prev_best_loss': prev_best_loss\n",
        "    }\n",
        "torch.save(state, state_path)\n",
        "        \n",
        "print(f'{EPOCHS} epochs finished in {total_training_time/60} mins')\n",
        "wandb.finish()"
      ],
      "execution_count": null,
      "outputs": [
        {
          "output_type": "stream",
          "name": "stdout",
          "text": [
            "epoch=519/600 loss=1.72153, loss_layer=0.55671, loss_img=0.72162, loss_cyc=0.4432, epoch_duration=58 secs\n"
          ]
        }
      ]
    },
    {
      "cell_type": "code",
      "metadata": {
        "id": "AvoNR-Q-5LPj"
      },
      "source": [
        "state = {\n",
        "    'model_state': inv_model.state_dict(),\n",
        "    'optimizer': optimizer.state_dict(),\n",
        "    'lr_sched': lr_sched.state_dict() if lr_sched else None,\n",
        "    'epoch': epoch,\n",
        "    'loss': total_loss,\n",
        "    'prev_best_loss': prev_best_loss\n",
        "    }\n",
        "torch.save(state, state_path)\n",
        "wandb.finish()"
      ],
      "execution_count": null,
      "outputs": []
    },
    {
      "cell_type": "markdown",
      "metadata": {
        "id": "PyJa76Cw5LPj"
      },
      "source": [
        "Plot and compare the original vs generated images"
      ]
    },
    {
      "cell_type": "code",
      "metadata": {
        "id": "UYNiygb55LPk"
      },
      "source": [
        "# [val.size() for val in model.forward_vals], [val.size() for val in inv_model.forward_vals], len(model.layers), len(inv_model.layers), inv_model.first_conv_dim"
      ],
      "execution_count": null,
      "outputs": []
    },
    {
      "cell_type": "code",
      "metadata": {
        "colab": {
          "base_uri": "https://localhost:8080/",
          "height": 662
        },
        "id": "CAqcgbei5LPk",
        "outputId": "e01bf9d3-7786-48f9-99b3-d2e6c6065061"
      },
      "source": [
        "import torch\n",
        "import time\n",
        "import numpy as np\n",
        "\n",
        "state = torch.load(best_model_path)\n",
        "inv_model.load_state_dict(state['model_state'])\n",
        "\n",
        "plt.figure(figsize=(15, 10))\n",
        "total_plts = 10\n",
        "for i in range(total_plts):\n",
        "    _ = np.random.randint(len(test_qmnist))\n",
        "    inp = model(test_qmnist[_][0].unsqueeze(0).to(device))\n",
        "    o = inv_model(inp)\n",
        "    img = o.reshape((28, 28)).cpu().detach().numpy()\n",
        "    ax_org = plt.subplot(4, 10, i+1)\n",
        "    plt.imshow(test_qmnist[_][0].squeeze().numpy(), cmap='gray')\n",
        "    ax_pred = plt.subplot(4, 10, i+1+total_plts) \n",
        "    plt.imshow(img, cmap='gray')\n",
        "    label = torch.argmax(model(o))\n",
        "    ax_pred.set_title(f'pred={label}')\n",
        "    ax_org.set_title(f'tgt={test_qmnist[_][1]}')\n",
        "    \n",
        "    ax_tgt_fmap = plt.subplot(4, 10, i+1+2*total_plts)\n",
        "    plt.imshow(model.forward_vals[0].squeeze().mean(0).cpu().detach().numpy(), cmap='gray')\n",
        "    ax_inv_fmap = plt.subplot(4, 10, i+1+3*total_plts)\n",
        "    plt.imshow(inv_model.forward_vals[1].view(20, 13, 13).mean(0).cpu().detach().numpy(), cmap='gray')\n",
        "    ax_tgt_fmap.set_title('tgt_fmap')\n",
        "    ax_inv_fmap.set_title('inv_fmap')\n",
        "\n",
        "plt.tight_layout()\n",
        "sample_save_path = run_path/f'{run_id}_{time.time()}.png'\n",
        "plt.savefig(sample_save_path)\n",
        "plt.show()"
      ],
      "execution_count": null,
      "outputs": [
        {
          "output_type": "display_data",
          "data": {
            "image/png": "[encoded data removed]",
            "text/plain": [
              "<Figure size 1080x720 with 40 Axes>"
            ]
          },
          "metadata": {
            "needs_background": "light"
          }
        }
      ]
    },
    {
      "cell_type": "markdown",
      "metadata": {
        "id": "x1ksgVCW5LPk"
      },
      "source": [
        "Now, let's see how identifiable the images generated using reversed model are..."
      ]
    },
    {
      "cell_type": "code",
      "metadata": {
        "tags": [],
        "id": "3-O7-jPz5LPk",
        "colab": {
          "base_uri": "https://localhost:8080/",
          "height": 67,
          "referenced_widgets": [
            "cc1b0913a97c429ea5050d6c14d8a408",
            "90acb015ad414596b6f2ea6faed2991b",
            "e33c0b9cb163470191ce4422ba2332fa",
            "66352d8ecf2f4e2bb8ceabede19e53f4",
            "9cbdaa52a2cc497c8b140a5cdc6a9e16",
            "02eadef8ee034e368cb30867ed52b50e",
            "55cab060e1274b64aac7679dbbe76771",
            "533faffff9a24b17abba88dad403155a",
            "54fdf2b190b84834a4ce364264450110",
            "a467c95ce5f3499ea819bddb512fd01b",
            "93c5b6686272432e9cd69d475f50a901"
          ]
        },
        "outputId": "fd03300e-96a6-4978-8927-a32054da30b7"
      },
      "source": [
        "from tqdm.notebook import tqdm\n",
        "\n",
        "tgts = []\n",
        "preds = []\n",
        "with torch.no_grad():\n",
        "    for i, test_sample in enumerate(tqdm(test_qmnist)):\n",
        "        inp = model(test_qmnist[i][0].unsqueeze(0).to(device))\n",
        "        tgt = test_qmnist[i][1]\n",
        "        o = inv_model(inp)  # generate image using inverted model\n",
        "        pred = torch.argmax(torch.softmax(model(o), -1))\n",
        "        tgts.append(tgt)\n",
        "        preds.append(pred.item())\n",
        "\n",
        "print(f'accuracy on generated images = {(np.array(tgts) == np.array(preds)).sum()/len(tgts) * 100}%')"
      ],
      "execution_count": null,
      "outputs": [
        {
          "output_type": "display_data",
          "data": {
            "application/vnd.jupyter.widget-view+json": {
              "model_id": "cc1b0913a97c429ea5050d6c14d8a408",
              "version_minor": 0,
              "version_major": 2
            },
            "text/plain": [
              "  0%|          | 0/60000 [00:00<?, ?it/s]"
            ]
          },
          "metadata": {}
        },
        {
          "output_type": "stream",
          "name": "stdout",
          "text": [
            "accuracy on generated images = 98.55833333333334%\n"
          ]
        }
      ]
    },
    {
      "cell_type": "code",
      "metadata": {
        "tags": [],
        "id": "trvFrvze5LPk",
        "colab": {
          "base_uri": "https://localhost:8080/",
          "height": 305
        },
        "outputId": "7aca3c67-0b97-4e50-efb6-121aa376f4c1"
      },
      "source": [
        "import torch\n",
        "import time\n",
        "import numpy as np\n",
        "\n",
        "state = torch.load(best_model_path)\n",
        "inv_model.load_state_dict(state['model_state'])\n",
        "\n",
        "plt.figure(figsize=(15, 5))\n",
        "total_plts = 10\n",
        "for i in range(total_plts):\n",
        "    _ = np.random.randint(len(train_qmnist))\n",
        "    inp = model(train_qmnist[_][0].unsqueeze(0).to(device))\n",
        "    o = inv_model(inp)\n",
        "    img = o.reshape((28, 28)).cpu().detach().numpy()\n",
        "    ax_org = plt.subplot(2, 10, i+1)\n",
        "    plt.imshow(train_qmnist[_][0].squeeze().numpy(), cmap='gray')\n",
        "    ax_pred = plt.subplot(2, 10, i+1+total_plts) \n",
        "    plt.imshow(img, cmap='gray')\n",
        "    label = torch.argmax(model(o))\n",
        "    ax_pred.set_title(f'pred={label}')\n",
        "    ax_org.set_title(f'tgt={train_qmnist[_][1]}')\n",
        "plt.tight_layout()\n",
        "sample_save_path = run_path/f'{run_id}_trainSetSamples_{time.time()}.png'\n",
        "plt.savefig(sample_save_path)\n",
        "plt.show()"
      ],
      "execution_count": null,
      "outputs": [
        {
          "output_type": "display_data",
          "data": {
            "image/png": "[encoded data removed]",
            "text/plain": [
              "<Figure size 1080x360 with 20 Axes>"
            ]
          },
          "metadata": {
            "needs_background": "light"
          }
        }
      ]
    },
    {
      "cell_type": "code",
      "metadata": {
        "id": "k8XfvjLp5LPl"
      },
      "source": [
        "import numpy as np\n",
        "\n",
        "state = torch.load(best_model_path)\n",
        "inv_model.load_state_dict(state['model_state'])\n",
        "\n",
        "for i in range(10):\n",
        "    _ = np.random.randint(len(train_qmnist))\n",
        "    inp = model(train_qmnist[_][0].unsqueeze(0).to(device))\n",
        "    o = inv_model(inp)\n",
        "    inp_min = torch.min(train_qmnist[_][0])\n",
        "    inp_max = torch.max(train_qmnist[_][0])\n",
        "    out_min = torch.min(o).item()\n",
        "    out_max = torch.max(o).item()\n",
        "    print(inp_min, inp_max, torch.mean(train_qmnist[_][0]), out_min, out_max, torch.mean(o).item())"
      ],
      "execution_count": null,
      "outputs": []
    }
  ]
}